{
  "cells": [
    {
      "cell_type": "code",
      "source": [
        "pip show azureml-train-automl"
      ],
      "outputs": [
        {
          "output_type": "stream",
          "name": "stdout",
          "text": "Name: azureml-train-automl\r\nVersion: 1.48.0\r\nSummary: Used for automatically finding the best machine learning model and its parameters.\r\nHome-page: https://docs.microsoft.com/python/api/overview/azure/ml/?view=azure-ml-py\r\nAuthor: Microsoft Corp\r\nAuthor-email: None\r\nLicense: https://aka.ms/azureml-sdk-license\r\nLocation: /anaconda/envs/azureml_py38/lib/python3.8/site-packages\r\nRequires: azureml-automl-runtime, azureml-train-automl-client, azureml-train-automl-runtime, azureml-dataset-runtime, azureml-automl-core\r\nRequired-by: azureml-automl-dnn-nlp\r\nNote: you may need to restart the kernel to use updated packages.\n"
        }
      ],
      "execution_count": 1,
      "metadata": {
        "gather": {
          "logged": 1675424623714
        }
      }
    },
    {
      "cell_type": "code",
      "source": [
        "import azureml.core\r\n",
        "from azureml.core import Workspace\r\n",
        "\r\n",
        "# Load the workspace from the saved config file\r\n",
        "ws = Workspace.from_config()\r\n",
        "print('Ready to use Azure ML {} to work with {}'.format(azureml.core.VERSION, ws.name))"
      ],
      "outputs": [
        {
          "output_type": "stream",
          "name": "stdout",
          "text": "Ready to use Azure ML 1.48.0 to work with project\n"
        }
      ],
      "execution_count": 2,
      "metadata": {
        "jupyter": {
          "source_hidden": false,
          "outputs_hidden": false
        },
        "nteract": {
          "transient": {
            "deleting": false
          }
        },
        "gather": {
          "logged": 1675424637842
        }
      }
    },
    {
      "cell_type": "code",
      "source": [
        "from azureml.core import Dataset\r\n",
        "from azureml.data.datapath import DataPath\r\n",
        "\r\n",
        "default_ds = ws.get_default_datastore()\r\n",
        "\r\n",
        "if 'churn dataset' not in ws.datasets:\r\n",
        "    Dataset.File.upload_directory(src_dir='data',\r\n",
        "                              target=DataPath(default_ds, 'churn-data/')\r\n",
        "                              )\r\n",
        "\r\n",
        "    #Create a tabular dataset from the path on the datastore (this may take a short while)\r\n",
        "    tab_data_set = Dataset.Tabular.from_delimited_files(path=(default_ds, 'churn-data/*.csv'))\r\n",
        "\r\n",
        "    # Register the tabular dataset\r\n",
        "    try:\r\n",
        "        tab_data_set = tab_data_set.register(workspace=ws, \r\n",
        "                                name='telco dataset',\r\n",
        "                                description='chrun data',\r\n",
        "                                tags = {'format':'CSV'},\r\n",
        "                                create_new_version=True)\r\n",
        "        print('Dataset registered.')\r\n",
        "    except Exception as ex:\r\n",
        "        print(ex)\r\n",
        "else:\r\n",
        "    print('Dataset already registered.')\r\n",
        "\r\n",
        "# Split the dataset into training and validation subsets\r\n",
        "churn_ds = ws.datasets.get(\"telco dataset\")\r\n",
        "train_ds, test_ds = churn_ds.random_split(percentage=0.7, seed=123)\r\n",
        "print(\"Data ready!\")"
      ],
      "outputs": [
        {
          "output_type": "stream",
          "name": "stdout",
          "text": "Validating arguments.\nArguments validated.\nUploading file to churn-data/\nUploading an estimated of 3 files\nTarget already exists. Skipping upload for churn-data/.amlignore\nTarget already exists. Skipping upload for churn-data/.amlignore.amltmp\nTarget already exists. Skipping upload for churn-data/telco-csv.csv\nUploaded 0 files\nCreating new dataset\nDataset registered.\nData ready!\n"
        }
      ],
      "execution_count": 3,
      "metadata": {
        "jupyter": {
          "source_hidden": false,
          "outputs_hidden": false
        },
        "nteract": {
          "transient": {
            "deleting": false
          }
        },
        "gather": {
          "logged": 1675424837847
        }
      }
    },
    {
      "cell_type": "code",
      "source": [
        "from azureml.core.compute import ComputeTarget, AmlCompute\r\n",
        "from azureml.core.compute_target import ComputeTargetException\r\n",
        "\r\n",
        "cluster_name = \"your-churn-compute-cluster\"\r\n",
        "\r\n",
        "try:\r\n",
        "    # Check for existing compute target\r\n",
        "    pipeline_cluster = ComputeTarget(workspace=ws, name=cluster_name)\r\n",
        "    print('Found existing cluster, use it.')\r\n",
        "except ComputeTargetException:\r\n",
        "    # If it doesn't already exist, create it\r\n",
        "    try:\r\n",
        "        compute_config = AmlCompute.provisioning_configuration(vm_size='STANDARD_DS11_V2', max_nodes=2)\r\n",
        "        pipeline_cluster = ComputeTarget.create(ws, cluster_name, compute_config)\r\n",
        "        pipeline_cluster.wait_for_completion(show_output=True)\r\n",
        "    except Exception as ex:\r\n",
        "        print(ex)"
      ],
      "outputs": [
        {
          "output_type": "stream",
          "name": "stdout",
          "text": "Found existing cluster, use it.\n"
        }
      ],
      "execution_count": 4,
      "metadata": {
        "jupyter": {
          "source_hidden": false,
          "outputs_hidden": false
        },
        "nteract": {
          "transient": {
            "deleting": false
          }
        },
        "gather": {
          "logged": 1675424916747
        }
      }
    },
    {
      "cell_type": "code",
      "source": [
        "import azureml.train.automl.utilities as automl_utils\r\n",
        "\r\n",
        "for metric in automl_utils.get_primary_metrics('classification'):\r\n",
        "    print(metric)"
      ],
      "outputs": [
        {
          "output_type": "stream",
          "name": "stdout",
          "text": "precision_score_weighted\nAUC_weighted\naverage_precision_score_weighted\naccuracy\nnorm_macro_recall\n"
        }
      ],
      "execution_count": 5,
      "metadata": {
        "jupyter": {
          "source_hidden": false,
          "outputs_hidden": false
        },
        "nteract": {
          "transient": {
            "deleting": false
          }
        },
        "gather": {
          "logged": 1675424937772
        }
      }
    },
    {
      "cell_type": "code",
      "source": [
        "from azureml.train.automl import AutoMLConfig\r\n",
        "\r\n",
        "automl_config = AutoMLConfig(name='Automated ML Experiment',\r\n",
        "                             task='classification',\r\n",
        "                             compute_target=pipeline_cluster,\r\n",
        "                             training_data = train_ds,\r\n",
        "                             validation_data = test_ds,\r\n",
        "                             label_column_name='churn',\r\n",
        "                             iterations=4,\r\n",
        "                             primary_metric = 'AUC_weighted',\r\n",
        "                             max_concurrent_iterations=2,\r\n",
        "                             featurization='auto'\r\n",
        "                             )\r\n",
        "\r\n",
        "print(\"Ready for Auto ML run.\")"
      ],
      "outputs": [
        {
          "output_type": "stream",
          "name": "stdout",
          "text": "Ready for Auto ML run.\n"
        }
      ],
      "execution_count": 6,
      "metadata": {
        "jupyter": {
          "source_hidden": false,
          "outputs_hidden": false
        },
        "nteract": {
          "transient": {
            "deleting": false
          }
        },
        "gather": {
          "logged": 1675424986803
        }
      }
    },
    {
      "cell_type": "code",
      "source": [
        "from azureml.core.experiment import Experiment\r\n",
        "from azureml.widgets import RunDetails\r\n",
        "\r\n",
        "print('Submitting Auto ML experiment...')\r\n",
        "automl_experiment = Experiment(ws, 'mslearn-churn-automl-sdk')\r\n",
        "automl_run = automl_experiment.submit(automl_config)\r\n",
        "RunDetails(automl_run).show()\r\n",
        "automl_run.wait_for_completion(show_output=True)"
      ],
      "outputs": [
        {
          "output_type": "stream",
          "name": "stdout",
          "text": "Submitting Auto ML experiment...\nSubmitting remote run.\n"
        },
        {
          "output_type": "display_data",
          "data": {
            "text/plain": "<IPython.core.display.HTML object>",
            "text/html": "<table style=\"width:100%\"><tr><th>Experiment</th><th>Id</th><th>Type</th><th>Status</th><th>Details Page</th><th>Docs Page</th></tr><tr><td>mslearn-churn-automl-sdk</td><td>AutoML_0b639f79-7864-4c18-863a-c91571486e74</td><td>automl</td><td>NotStarted</td><td><a href=\"https://ml.azure.com/runs/AutoML_0b639f79-7864-4c18-863a-c91571486e74?wsid=/subscriptions/bd5c51d3-de0b-41fc-99f7-375e6737efda/resourcegroups/project_dp100/workspaces/project&amp;tid=474565c1-bca4-4295-a2f5-b0c7dbf2591c\" target=\"_blank\" rel=\"noopener\">Link to Azure Machine Learning studio</a></td><td><a href=\"https://docs.microsoft.com/en-us/python/api/overview/azure/ml/intro?view=azure-ml-py\" target=\"_blank\" rel=\"noopener\">Link to Documentation</a></td></tr></table>"
          },
          "metadata": {}
        },
        {
          "output_type": "display_data",
          "data": {
            "text/plain": "_AutoMLWidget(widget_settings={'childWidgetDisplay': 'popup', 'send_telemetry': False, 'log_level': 'INFO', 's…",
            "application/vnd.jupyter.widget-view+json": {
              "version_major": 2,
              "version_minor": 0,
              "model_id": "2125cf40ddff490893b19b7f26af6870"
            }
          },
          "metadata": {}
        },
        {
          "output_type": "display_data",
          "data": {
            "application/aml.mini.widget.v1": "{\"status\": \"Completed\", \"workbench_run_details_uri\": \"https://ml.azure.com/runs/AutoML_0b639f79-7864-4c18-863a-c91571486e74?wsid=/subscriptions/bd5c51d3-de0b-41fc-99f7-375e6737efda/resourcegroups/project_dp100/workspaces/project&tid=474565c1-bca4-4295-a2f5-b0c7dbf2591c\", \"run_id\": \"AutoML_0b639f79-7864-4c18-863a-c91571486e74\", \"run_properties\": {\"run_id\": \"AutoML_0b639f79-7864-4c18-863a-c91571486e74\", \"created_utc\": \"2023-02-03T11:50:22.207898Z\", \"properties\": {\"num_iterations\": \"4\", \"training_type\": \"TrainFull\", \"acquisition_function\": \"EI\", \"primary_metric\": \"AUC_weighted\", \"train_split\": \"0\", \"acquisition_parameter\": \"0\", \"num_cross_validation\": null, \"target\": \"your-churn-compute-cluster\", \"AMLSettingsJsonString\": \"{\\\"path\\\":null,\\\"name\\\":\\\"Automated ML Experiment\\\",\\\"subscription_id\\\":\\\"bd5c51d3-de0b-41fc-99f7-375e6737efda\\\",\\\"resource_group\\\":\\\"project_dp100\\\",\\\"workspace_name\\\":\\\"project\\\",\\\"region\\\":\\\"eastus\\\",\\\"compute_target\\\":\\\"your-churn-compute-cluster\\\",\\\"spark_service\\\":null,\\\"azure_service\\\":\\\"remote\\\",\\\"many_models\\\":false,\\\"pipeline_fetch_max_batch_size\\\":1,\\\"enable_batch_run\\\":true,\\\"enable_parallel_run\\\":false,\\\"num_procs\\\":null,\\\"enable_run_restructure\\\":false,\\\"start_auxiliary_runs_before_parent_complete\\\":false,\\\"enable_code_generation\\\":true,\\\"iterations\\\":4,\\\"primary_metric\\\":\\\"AUC_weighted\\\",\\\"task_type\\\":\\\"classification\\\",\\\"positive_label\\\":null,\\\"data_script\\\":null,\\\"test_size\\\":0.0,\\\"test_include_predictions_only\\\":false,\\\"validation_size\\\":0.0,\\\"n_cross_validations\\\":null,\\\"y_min\\\":null,\\\"y_max\\\":null,\\\"num_classes\\\":null,\\\"featurization\\\":\\\"auto\\\",\\\"_ignore_package_version_incompatibilities\\\":false,\\\"is_timeseries\\\":false,\\\"max_cores_per_iteration\\\":1,\\\"max_concurrent_iterations\\\":2,\\\"iteration_timeout_minutes\\\":null,\\\"mem_in_mb\\\":null,\\\"enforce_time_on_windows\\\":false,\\\"experiment_timeout_minutes\\\":8640,\\\"experiment_exit_score\\\":null,\\\"partition_column_names\\\":null,\\\"whitelist_models\\\":null,\\\"blacklist_algos\\\":[\\\"TensorFlowLinearClassifier\\\",\\\"TensorFlowDNN\\\"],\\\"supported_models\\\":[\\\"LightGBM\\\",\\\"SVM\\\",\\\"TensorFlowDNN\\\",\\\"TabnetClassifier\\\",\\\"BernoulliNaiveBayes\\\",\\\"GradientBoosting\\\",\\\"LinearSVM\\\",\\\"SGD\\\",\\\"TensorFlowLinearClassifier\\\",\\\"ExtremeRandomTrees\\\",\\\"RandomForest\\\",\\\"XGBoostClassifier\\\",\\\"MultinomialNaiveBayes\\\",\\\"KNN\\\",\\\"LogisticRegression\\\",\\\"AveragedPerceptronClassifier\\\",\\\"DecisionTree\\\"],\\\"private_models\\\":[],\\\"auto_blacklist\\\":true,\\\"blacklist_samples_reached\\\":false,\\\"exclude_nan_labels\\\":true,\\\"verbosity\\\":20,\\\"_debug_log\\\":\\\"azureml_automl.log\\\",\\\"show_warnings\\\":false,\\\"model_explainability\\\":true,\\\"service_url\\\":null,\\\"sdk_url\\\":null,\\\"sdk_packages\\\":null,\\\"enable_onnx_compatible_models\\\":false,\\\"enable_split_onnx_featurizer_estimator_models\\\":false,\\\"vm_type\\\":\\\"STANDARD_DS11_V2\\\",\\\"telemetry_verbosity\\\":20,\\\"send_telemetry\\\":true,\\\"enable_dnn\\\":false,\\\"scenario\\\":\\\"AutoML\\\",\\\"environment_label\\\":null,\\\"save_mlflow\\\":false,\\\"enable_categorical_indicators\\\":false,\\\"force_text_dnn\\\":false,\\\"enable_feature_sweeping\\\":true,\\\"enable_early_stopping\\\":true,\\\"early_stopping_n_iters\\\":10,\\\"arguments\\\":null,\\\"dataset_id\\\":\\\"e15d0622-32ff-453e-b84d-dd3f5e81d4ff\\\",\\\"hyperdrive_config\\\":null,\\\"validation_dataset_id\\\":\\\"1ad3aa71-79e9-4607-94fe-34f8405f4075\\\",\\\"run_source\\\":null,\\\"metrics\\\":null,\\\"enable_metric_confidence\\\":false,\\\"enable_ensembling\\\":true,\\\"enable_stack_ensembling\\\":true,\\\"ensemble_iterations\\\":4,\\\"enable_tf\\\":false,\\\"enable_subsampling\\\":false,\\\"subsample_seed\\\":null,\\\"enable_nimbusml\\\":false,\\\"enable_streaming\\\":false,\\\"force_streaming\\\":false,\\\"track_child_runs\\\":true,\\\"n_best_runs\\\":1,\\\"allowed_private_models\\\":[],\\\"label_column_name\\\":\\\"churn\\\",\\\"weight_column_name\\\":null,\\\"cv_split_column_names\\\":null,\\\"enable_local_managed\\\":false,\\\"_local_managed_run_id\\\":null,\\\"cost_mode\\\":1,\\\"lag_length\\\":0,\\\"metric_operation\\\":\\\"maximize\\\",\\\"preprocess\\\":true}\", \"DataPrepJsonString\": \"{\\\\\\\"training_data\\\\\\\": {\\\\\\\"datasetId\\\\\\\": \\\\\\\"e15d0622-32ff-453e-b84d-dd3f5e81d4ff\\\\\\\"}, \\\\\\\"validation_data\\\\\\\": {\\\\\\\"datasetId\\\\\\\": \\\\\\\"1ad3aa71-79e9-4607-94fe-34f8405f4075\\\\\\\"}, \\\\\\\"datasets\\\\\\\": 0}\", \"EnableSubsampling\": \"False\", \"runTemplate\": \"AutoML\", \"azureml.runsource\": \"automl\", \"display_task_type\": \"classification\", \"dependencies_versions\": \"{\\\"azureml-widgets\\\": \\\"1.48.0\\\", \\\"azureml-training-tabular\\\": \\\"1.48.0\\\", \\\"azureml-train\\\": \\\"1.48.0\\\", \\\"azureml-train-restclients-hyperdrive\\\": \\\"1.48.0\\\", \\\"azureml-train-core\\\": \\\"1.48.0\\\", \\\"azureml-train-automl\\\": \\\"1.48.0\\\", \\\"azureml-train-automl-runtime\\\": \\\"1.48.0\\\", \\\"azureml-train-automl-client\\\": \\\"1.48.0\\\", \\\"azureml-tensorboard\\\": \\\"1.48.0\\\", \\\"azureml-telemetry\\\": \\\"1.48.0\\\", \\\"azureml-sdk\\\": \\\"1.48.0\\\", \\\"azureml-samples\\\": \\\"0+unknown\\\", \\\"azureml-responsibleai\\\": \\\"1.48.0\\\", \\\"azureml-pipeline\\\": \\\"1.48.0\\\", \\\"azureml-pipeline-steps\\\": \\\"1.48.0\\\", \\\"azureml-pipeline-core\\\": \\\"1.48.0\\\", \\\"azureml-opendatasets\\\": \\\"1.48.0\\\", \\\"azureml-mlflow\\\": \\\"1.48.0\\\", \\\"azureml-interpret\\\": \\\"1.48.0\\\", \\\"azureml-inference-server-http\\\": \\\"0.7.7\\\", \\\"azureml-explain-model\\\": \\\"1.48.0\\\", \\\"azureml-defaults\\\": \\\"1.48.0\\\", \\\"azureml-dataset-runtime\\\": \\\"1.48.0\\\", \\\"azureml-dataprep\\\": \\\"4.8.3\\\", \\\"azureml-dataprep-rslex\\\": \\\"2.15.1\\\", \\\"azureml-dataprep-native\\\": \\\"38.0.0\\\", \\\"azureml-datadrift\\\": \\\"1.48.0\\\", \\\"azureml-core\\\": \\\"1.48.0\\\", \\\"azureml-contrib-services\\\": \\\"1.48.0\\\", \\\"azureml-contrib-server\\\": \\\"1.48.0\\\", \\\"azureml-contrib-reinforcementlearning\\\": \\\"1.48.0\\\", \\\"azureml-contrib-pipeline-steps\\\": \\\"1.48.0\\\", \\\"azureml-contrib-notebook\\\": \\\"1.48.0\\\", \\\"azureml-contrib-fairness\\\": \\\"1.48.0\\\", \\\"azureml-contrib-dataset\\\": \\\"1.48.0\\\", \\\"azureml-contrib-automl-pipeline-steps\\\": \\\"1.48.0\\\", \\\"azureml-cli-common\\\": \\\"1.48.0\\\", \\\"azureml-automl-runtime\\\": \\\"1.48.0.post1\\\", \\\"azureml-automl-dnn-nlp\\\": \\\"1.48.0\\\", \\\"azureml-automl-core\\\": \\\"1.48.0\\\", \\\"azureml-accel-models\\\": \\\"1.48.0\\\"}\", \"_aml_system_scenario_identification\": \"Remote.Parent\", \"ClientType\": \"SDK\", \"environment_cpu_name\": \"AzureML-AutoML\", \"environment_cpu_label\": \"prod\", \"environment_gpu_name\": \"AzureML-AutoML-GPU\", \"environment_gpu_label\": \"prod\", \"root_attribution\": \"automl\", \"attribution\": \"AutoML\", \"Orchestrator\": \"AutoML\", \"CancelUri\": \"https://eastus.api.azureml.ms/jasmine/v1.0/subscriptions/bd5c51d3-de0b-41fc-99f7-375e6737efda/resourceGroups/project_dp100/providers/Microsoft.MachineLearningServices/workspaces/project/experimentids/5cde3b24-4eea-43c6-8e60-6840b88400e5/cancel/AutoML_0b639f79-7864-4c18-863a-c91571486e74\", \"ClientSdkVersion\": \"1.48.0.post2\", \"snapshotId\": \"00000000-0000-0000-0000-000000000000\", \"SetupRunId\": \"AutoML_0b639f79-7864-4c18-863a-c91571486e74_setup\", \"SetupRunContainerId\": \"dcid.AutoML_0b639f79-7864-4c18-863a-c91571486e74_setup\", \"FeaturizationRunJsonPath\": \"featurizer_container.json\", \"FeaturizationRunId\": \"AutoML_0b639f79-7864-4c18-863a-c91571486e74_featurize\", \"ProblemInfoJsonString\": \"{\\\"dataset_num_categorical\\\": 0, \\\"is_sparse\\\": true, \\\"subsampling\\\": false, \\\"has_extra_col\\\": true, \\\"dataset_classes\\\": 2, \\\"dataset_features\\\": 61, \\\"dataset_samples\\\": 699, \\\"single_frequency_class_detected\\\": false}\", \"ModelExplainRunId\": \"AutoML_0b639f79-7864-4c18-863a-c91571486e74_ModelExplain\"}, \"tags\": {\"model_explain_run\": \"best_run\", \"_aml_system_automl_run_workspace_id\": \"3ffe2a6f-f56b-4b6d-a2ec-bde249628b8e\", \"_aml_system_azureml.automlComponent\": \"AutoML\", \"pipeline_id_000\": \"5dfac790c5c209f98a1da2dc1c7fb76f0397324f;c7af0367625be6ac5c2fecbfc72ed444cb7a2111;__AutoML_Stack_Ensemble__;__AutoML_Ensemble__\", \"score\": \"<0.7562377831436128>;<0.7854432562952742>;<0.7710129929860873>;<0.783028630562263>;\", \"predicted_cost\": \"<0>;<0>;<0>;<0>;\", \"fit_time\": \"<0.149363>;<0.352837>;<5>;<3>;\", \"training_percent\": \"<100>;<100>;<100>;<100>;\", \"iteration\": \"<0>;<1>;<3>;<2>;\", \"run_preprocessor\": \"<MaxAbsScaler>;<MaxAbsScaler>;<>;<>;\", \"run_algorithm\": \"<LightGBM>;<XGBoostClassifier>;<StackEnsemble>;<VotingEnsemble>;\", \"automl_best_child_run_id\": \"AutoML_0b639f79-7864-4c18-863a-c91571486e74_1\", \"model_explain_best_run_child_id\": \"AutoML_0b639f79-7864-4c18-863a-c91571486e74_1\"}, \"end_time_utc\": \"2023-02-03T11:55:52.42427Z\", \"status\": \"Completed\", \"log_files\": {}, \"log_groups\": [], \"run_duration\": \"0:05:30\", \"run_number\": \"1675425022\", \"run_queued_details\": {\"status\": \"Completed\", \"details\": null}}, \"child_runs\": [{\"run_id\": \"AutoML_0b639f79-7864-4c18-863a-c91571486e74_setup\", \"run_number\": 1675425034, \"metric\": null, \"status\": \"Completed\", \"run_type\": \"azureml.scriptrun\", \"training_percent\": null, \"start_time\": \"2023-02-03T11:50:41.10546Z\", \"end_time\": \"2023-02-03T11:52:17.973674Z\", \"created_time\": \"2023-02-03T11:50:34.862217Z\", \"created_time_dt\": \"2023-02-03T11:50:34.862217Z\", \"duration\": \"0:01:43\", \"iteration\": null, \"goal\": null, \"run_name\": \"Completed\", \"run_properties\": null}, {\"run_id\": \"AutoML_0b639f79-7864-4c18-863a-c91571486e74_featurize\", \"run_number\": 1675425138, \"metric\": null, \"status\": \"Completed\", \"run_type\": \"automl.featurization\", \"training_percent\": null, \"start_time\": \"2023-02-03T11:52:18.784645Z\", \"end_time\": \"2023-02-03T11:54:37.363838Z\", \"created_time\": \"2023-02-03T11:52:18.380495Z\", \"created_time_dt\": \"2023-02-03T11:52:18.380495Z\", \"duration\": \"0:02:18\", \"iteration\": null, \"goal\": null, \"run_name\": \"Completed\", \"run_properties\": null}, {\"run_id\": \"AutoML_0b639f79-7864-4c18-863a-c91571486e74_0\", \"run_number\": 1675425277, \"metric\": null, \"status\": \"Completed\", \"run_type\": null, \"training_percent\": \"100\", \"start_time\": \"2023-02-03T11:54:52.627543Z\", \"end_time\": \"2023-02-03T11:55:03.675791Z\", \"created_time\": \"2023-02-03T11:54:37.883068Z\", \"created_time_dt\": \"2023-02-03T11:54:37.883068Z\", \"duration\": \"0:00:25\", \"iteration\": \"0\", \"goal\": \"AUC_weighted_max\", \"run_name\": \"MaxAbsScaler, LightGBM\", \"run_properties\": \"copy=True\", \"primary_metric\": 0.75623778, \"best_metric\": 0.75623778}, {\"run_id\": \"AutoML_0b639f79-7864-4c18-863a-c91571486e74_worker_0\", \"run_number\": 1675425278, \"metric\": null, \"status\": \"Completed\", \"run_type\": \"azureml.scriptrun\", \"training_percent\": null, \"start_time\": \"2023-02-03T11:54:43.023455Z\", \"end_time\": \"2023-02-03T11:55:11.530328Z\", \"created_time\": \"2023-02-03T11:54:38.119379Z\", \"created_time_dt\": \"2023-02-03T11:54:38.119379Z\", \"duration\": \"0:00:33\", \"iteration\": null, \"goal\": null, \"run_name\": \"Completed\", \"run_properties\": null}, {\"run_id\": \"AutoML_0b639f79-7864-4c18-863a-c91571486e74_2\", \"run_number\": 1675425304, \"metric\": null, \"status\": \"Completed\", \"run_type\": \"azureml.scriptrun\", \"training_percent\": \"100\", \"start_time\": \"2023-02-03T11:55:14.333234Z\", \"end_time\": \"2023-02-03T11:55:51.425737Z\", \"created_time\": \"2023-02-03T11:55:04.782664Z\", \"created_time_dt\": \"2023-02-03T11:55:04.782664Z\", \"duration\": \"0:00:46\", \"iteration\": \"2\", \"goal\": \"AUC_weighted_max\", \"run_name\": \"VotingEnsemble\", \"run_properties\": \"classification_labels=numpy.array([0, 1]\", \"primary_metric\": 0.78302863, \"best_metric\": 0.78302863}], \"children_metrics\": {\"categories\": [0], \"series\": {\"precision_score_macro\": [{\"categories\": [\"0\", \"2\"], \"mode\": \"markers\", \"name\": \"precision_score_macro\", \"stepped\": false, \"type\": \"scatter\", \"data\": [0.6647972389991372, 0.7080816796088583]}, {\"categories\": [\"0\", \"2\"], \"mode\": \"lines\", \"name\": \"precision_score_macro_max\", \"stepped\": true, \"type\": \"scatter\", \"data\": [0.6647972389991372, 0.7080816796088583]}], \"log_loss\": [{\"categories\": [\"0\", \"2\"], \"mode\": \"markers\", \"name\": \"log_loss\", \"stepped\": false, \"type\": \"scatter\", \"data\": [0.6290620751680075, 0.6004375098404808]}, {\"categories\": [\"0\", \"2\"], \"mode\": \"lines\", \"name\": \"log_loss_min\", \"stepped\": true, \"type\": \"scatter\", \"data\": [0.6290620751680075, 0.6004375098404808]}], \"recall_score_weighted\": [{\"categories\": [\"0\", \"2\"], \"mode\": \"markers\", \"name\": \"recall_score_weighted\", \"stepped\": false, \"type\": \"scatter\", \"data\": [0.7508305647840532, 0.7774086378737541]}, {\"categories\": [\"0\", \"2\"], \"mode\": \"lines\", \"name\": \"recall_score_weighted_max\", \"stepped\": true, \"type\": \"scatter\", \"data\": [0.7508305647840532, 0.7774086378737541]}], \"accuracy\": [{\"categories\": [\"0\", \"2\"], \"mode\": \"markers\", \"name\": \"accuracy\", \"stepped\": false, \"type\": \"scatter\", \"data\": [0.7508305647840532, 0.7774086378737541]}, {\"categories\": [\"0\", \"2\"], \"mode\": \"lines\", \"name\": \"accuracy_max\", \"stepped\": true, \"type\": \"scatter\", \"data\": [0.7508305647840532, 0.7774086378737541]}], \"matthews_correlation\": [{\"categories\": [\"0\", \"2\"], \"mode\": \"markers\", \"name\": \"matthews_correlation\", \"stepped\": false, \"type\": \"scatter\", \"data\": [0.29472198602782024, 0.37213151289900165]}, {\"categories\": [\"0\", \"2\"], \"mode\": \"lines\", \"name\": \"matthews_correlation_max\", \"stepped\": true, \"type\": \"scatter\", \"data\": [0.29472198602782024, 0.37213151289900165]}], \"average_precision_score_weighted\": [{\"categories\": [\"0\", \"2\"], \"mode\": \"markers\", \"name\": \"average_precision_score_weighted\", \"stepped\": false, \"type\": \"scatter\", \"data\": [0.7931297617238613, 0.8057387378548706]}, {\"categories\": [\"0\", \"2\"], \"mode\": \"lines\", \"name\": \"average_precision_score_weighted_max\", \"stepped\": true, \"type\": \"scatter\", \"data\": [0.7931297617238613, 0.8057387378548706]}], \"recall_score_micro\": [{\"categories\": [\"0\", \"2\"], \"mode\": \"markers\", \"name\": \"recall_score_micro\", \"stepped\": false, \"type\": \"scatter\", \"data\": [0.7508305647840532, 0.7774086378737541]}, {\"categories\": [\"0\", \"2\"], \"mode\": \"lines\", \"name\": \"recall_score_micro_max\", \"stepped\": true, \"type\": \"scatter\", \"data\": [0.7508305647840532, 0.7774086378737541]}], \"weighted_accuracy\": [{\"categories\": [\"0\", \"2\"], \"mode\": \"markers\", \"name\": \"weighted_accuracy\", \"stepped\": false, \"type\": \"scatter\", \"data\": [0.8250407611130023, 0.8466127963019368]}, {\"categories\": [\"0\", \"2\"], \"mode\": \"lines\", \"name\": \"weighted_accuracy_max\", \"stepped\": true, \"type\": \"scatter\", \"data\": [0.8250407611130023, 0.8466127963019368]}], \"precision_score_weighted\": [{\"categories\": [\"0\", \"2\"], \"mode\": \"markers\", \"name\": \"precision_score_weighted\", \"stepped\": false, \"type\": \"scatter\", \"data\": [0.7315075718270132, 0.761837877193938]}, {\"categories\": [\"0\", \"2\"], \"mode\": \"lines\", \"name\": \"precision_score_weighted_max\", \"stepped\": true, \"type\": \"scatter\", \"data\": [0.7315075718270132, 0.761837877193938]}], \"f1_score_micro\": [{\"categories\": [\"0\", \"2\"], \"mode\": \"markers\", \"name\": \"f1_score_micro\", \"stepped\": false, \"type\": \"scatter\", \"data\": [0.7508305647840532, 0.7774086378737542]}, {\"categories\": [\"0\", \"2\"], \"mode\": \"lines\", \"name\": \"f1_score_micro_max\", \"stepped\": true, \"type\": \"scatter\", \"data\": [0.7508305647840532, 0.7774086378737542]}], \"AUC_macro\": [{\"categories\": [\"0\", \"2\"], \"mode\": \"markers\", \"name\": \"AUC_macro\", \"stepped\": false, \"type\": \"scatter\", \"data\": [0.7562377831436127, 0.7830286305622629]}, {\"categories\": [\"0\", \"2\"], \"mode\": \"lines\", \"name\": \"AUC_macro_max\", \"stepped\": true, \"type\": \"scatter\", \"data\": [0.7562377831436127, 0.7830286305622629]}], \"f1_score_macro\": [{\"categories\": [\"0\", \"2\"], \"mode\": \"markers\", \"name\": \"f1_score_macro\", \"stepped\": false, \"type\": \"scatter\", \"data\": [0.6419224363549845, 0.6801173764771196]}, {\"categories\": [\"0\", \"2\"], \"mode\": \"lines\", \"name\": \"f1_score_macro_max\", \"stepped\": true, \"type\": \"scatter\", \"data\": [0.6419224363549845, 0.6801173764771196]}], \"recall_score_macro\": [{\"categories\": [\"0\", \"2\"], \"mode\": \"markers\", \"name\": \"recall_score_macro\", \"stepped\": false, \"type\": \"scatter\", \"data\": [0.6317695757157641, 0.6663792112222606]}, {\"categories\": [\"0\", \"2\"], \"mode\": \"lines\", \"name\": \"recall_score_macro_max\", \"stepped\": true, \"type\": \"scatter\", \"data\": [0.6317695757157641, 0.6663792112222606]}], \"balanced_accuracy\": [{\"categories\": [\"0\", \"2\"], \"mode\": \"markers\", \"name\": \"balanced_accuracy\", \"stepped\": false, \"type\": \"scatter\", \"data\": [0.6317695757157641, 0.6663792112222606]}, {\"categories\": [\"0\", \"2\"], \"mode\": \"lines\", \"name\": \"balanced_accuracy_max\", \"stepped\": true, \"type\": \"scatter\", \"data\": [0.6317695757157641, 0.6663792112222606]}], \"AUC_micro\": [{\"categories\": [\"0\", \"2\"], \"mode\": \"markers\", \"name\": \"AUC_micro\", \"stepped\": false, \"type\": \"scatter\", \"data\": [0.8391518857407756, 0.8533018399355414]}, {\"categories\": [\"0\", \"2\"], \"mode\": \"lines\", \"name\": \"AUC_micro_max\", \"stepped\": true, \"type\": \"scatter\", \"data\": [0.8391518857407756, 0.8533018399355414]}], \"f1_score_weighted\": [{\"categories\": [\"0\", \"2\"], \"mode\": \"markers\", \"name\": \"f1_score_weighted\", \"stepped\": false, \"type\": \"scatter\", \"data\": [0.737053030464713, 0.7651007072151439]}, {\"categories\": [\"0\", \"2\"], \"mode\": \"lines\", \"name\": \"f1_score_weighted_max\", \"stepped\": true, \"type\": \"scatter\", \"data\": [0.737053030464713, 0.7651007072151439]}], \"average_precision_score_micro\": [{\"categories\": [\"0\", \"2\"], \"mode\": \"markers\", \"name\": \"average_precision_score_micro\", \"stepped\": false, \"type\": \"scatter\", \"data\": [0.8325750091536779, 0.8437181374246164]}, {\"categories\": [\"0\", \"2\"], \"mode\": \"lines\", \"name\": \"average_precision_score_micro_max\", \"stepped\": true, \"type\": \"scatter\", \"data\": [0.8325750091536779, 0.8437181374246164]}], \"AUC_weighted\": [{\"categories\": [\"0\", \"2\"], \"mode\": \"markers\", \"name\": \"AUC_weighted\", \"stepped\": false, \"type\": \"scatter\", \"data\": [0.7562377831436128, 0.783028630562263]}, {\"categories\": [\"0\", \"2\"], \"mode\": \"lines\", \"name\": \"AUC_weighted_max\", \"stepped\": true, \"type\": \"scatter\", \"data\": [0.7562377831436128, 0.783028630562263]}], \"norm_macro_recall\": [{\"categories\": [\"0\", \"2\"], \"mode\": \"markers\", \"name\": \"norm_macro_recall\", \"stepped\": false, \"type\": \"scatter\", \"data\": [0.2635391514315282, 0.33275842244452125]}, {\"categories\": [\"0\", \"2\"], \"mode\": \"lines\", \"name\": \"norm_macro_recall_max\", \"stepped\": true, \"type\": \"scatter\", \"data\": [0.2635391514315282, 0.33275842244452125]}], \"average_precision_score_macro\": [{\"categories\": [\"0\", \"2\"], \"mode\": \"markers\", \"name\": \"average_precision_score_macro\", \"stepped\": false, \"type\": \"scatter\", \"data\": [0.704422664096596, 0.7210753311188184]}, {\"categories\": [\"0\", \"2\"], \"mode\": \"lines\", \"name\": \"average_precision_score_macro_max\", \"stepped\": true, \"type\": \"scatter\", \"data\": [0.704422664096596, 0.7210753311188184]}], \"precision_score_micro\": [{\"categories\": [\"0\", \"2\"], \"mode\": \"markers\", \"name\": \"precision_score_micro\", \"stepped\": false, \"type\": \"scatter\", \"data\": [0.7508305647840532, 0.7774086378737541]}, {\"categories\": [\"0\", \"2\"], \"mode\": \"lines\", \"name\": \"precision_score_micro_max\", \"stepped\": true, \"type\": \"scatter\", \"data\": [0.7508305647840532, 0.7774086378737541]}]}, \"metricName\": null, \"primaryMetricName\": \"AUC_weighted\", \"showLegend\": false}, \"run_metrics\": [{\"name\": \"experiment_status\", \"run_id\": \"AutoML_0b639f79-7864-4c18-863a-c91571486e74\", \"categories\": [0, 1, 2, 3, 4, 5, 6, 7, 8, 9, 10, 11, 12], \"series\": [{\"data\": [\"DatasetEvaluation\", \"FeaturesGeneration\", \"DatasetFeaturization\", \"DatasetFeaturizationCompleted\", \"ModelSelection\", \"BestRunExplainModel\", \"ModelExplanationDataSetSetup\", \"PickSurrogateModel\", \"EngineeredFeatureExplanations\", \"EngineeredFeatureExplanations\", \"RawFeaturesExplanations\", \"RawFeaturesExplanations\", \"BestRunExplainModel\"]}]}, {\"name\": \"experiment_status_description\", \"run_id\": \"AutoML_0b639f79-7864-4c18-863a-c91571486e74\", \"categories\": [0, 1, 2, 3, 4, 5, 6, 7, 8, 9, 10, 11, 12], \"series\": [{\"data\": [\"Gathering dataset statistics.\", \"Generating features for the dataset.\", \"Beginning to fit featurizers and featurize the dataset.\", \"Completed fit featurizers and featurizing the dataset.\", \"Beginning model selection.\", \"Best run model explanations started\", \"Model explanations data setup completed\", \"Choosing LightGBM as the surrogate model for explanations\", \"Computation of engineered features started\", \"Computation of engineered features completed\", \"Computation of raw features started\", \"Computation of raw features completed\", \"Best run model explanations completed\"]}]}, {\"name\": \"recall_score_micro\", \"run_id\": \"AutoML_0b639f79-7864-4c18-863a-c91571486e74\", \"categories\": [0], \"series\": [{\"data\": [0.7740863787375415]}]}, {\"name\": \"f1_score_weighted\", \"run_id\": \"AutoML_0b639f79-7864-4c18-863a-c91571486e74\", \"categories\": [0], \"series\": [{\"data\": [0.7623230148432264]}]}, {\"name\": \"log_loss\", \"run_id\": \"AutoML_0b639f79-7864-4c18-863a-c91571486e74\", \"categories\": [0], \"series\": [{\"data\": [0.6189491470806332]}]}, {\"name\": \"average_precision_score_micro\", \"run_id\": \"AutoML_0b639f79-7864-4c18-863a-c91571486e74\", \"categories\": [0], \"series\": [{\"data\": [0.8443682564293514]}]}, {\"name\": \"matthews_correlation\", \"run_id\": \"AutoML_0b639f79-7864-4c18-863a-c91571486e74\", \"categories\": [0], \"series\": [{\"data\": [0.36468612627327046]}]}, {\"name\": \"precision_score_weighted\", \"run_id\": \"AutoML_0b639f79-7864-4c18-863a-c91571486e74\", \"categories\": [0], \"series\": [{\"data\": [0.7586230468703962]}]}, {\"name\": \"average_precision_score_macro\", \"run_id\": \"AutoML_0b639f79-7864-4c18-863a-c91571486e74\", \"categories\": [0], \"series\": [{\"data\": [0.7218055366678686]}]}, {\"name\": \"recall_score_macro\", \"run_id\": \"AutoML_0b639f79-7864-4c18-863a-c91571486e74\", \"categories\": [0], \"series\": [{\"data\": [0.6641370587558928]}]}, {\"name\": \"accuracy\", \"run_id\": \"AutoML_0b639f79-7864-4c18-863a-c91571486e74\", \"categories\": [0], \"series\": [{\"data\": [0.7740863787375415]}]}, {\"name\": \"AUC_macro\", \"run_id\": \"AutoML_0b639f79-7864-4c18-863a-c91571486e74\", \"categories\": [0], \"series\": [{\"data\": [0.7854432562952742]}]}, {\"name\": \"norm_macro_recall\", \"run_id\": \"AutoML_0b639f79-7864-4c18-863a-c91571486e74\", \"categories\": [0], \"series\": [{\"data\": [0.3282741175117856]}]}, {\"name\": \"weighted_accuracy\", \"run_id\": \"AutoML_0b639f79-7864-4c18-863a-c91571486e74\", \"categories\": [0], \"series\": [{\"data\": [0.8426173113790694]}]}, {\"name\": \"precision_score_micro\", \"run_id\": \"AutoML_0b639f79-7864-4c18-863a-c91571486e74\", \"categories\": [0], \"series\": [{\"data\": [0.7740863787375415]}]}, {\"name\": \"AUC_micro\", \"run_id\": \"AutoML_0b639f79-7864-4c18-863a-c91571486e74\", \"categories\": [0], \"series\": [{\"data\": [0.8545049171642698]}]}, {\"name\": \"average_precision_score_weighted\", \"run_id\": \"AutoML_0b639f79-7864-4c18-863a-c91571486e74\", \"categories\": [0], \"series\": [{\"data\": [0.8063467299421802]}]}, {\"name\": \"f1_score_macro\", \"run_id\": \"AutoML_0b639f79-7864-4c18-863a-c91571486e74\", \"categories\": [0], \"series\": [{\"data\": [0.6770386266094421]}]}, {\"name\": \"f1_score_micro\", \"run_id\": \"AutoML_0b639f79-7864-4c18-863a-c91571486e74\", \"categories\": [0], \"series\": [{\"data\": [0.7740863787375415]}]}, {\"name\": \"precision_score_macro\", \"run_id\": \"AutoML_0b639f79-7864-4c18-863a-c91571486e74\", \"categories\": [0], \"series\": [{\"data\": [0.7025684688519938]}]}, {\"name\": \"balanced_accuracy\", \"run_id\": \"AutoML_0b639f79-7864-4c18-863a-c91571486e74\", \"categories\": [0], \"series\": [{\"data\": [0.6641370587558928]}]}, {\"name\": \"recall_score_weighted\", \"run_id\": \"AutoML_0b639f79-7864-4c18-863a-c91571486e74\", \"categories\": [0], \"series\": [{\"data\": [0.7740863787375415]}]}, {\"name\": \"AUC_weighted\", \"run_id\": \"AutoML_0b639f79-7864-4c18-863a-c91571486e74\", \"categories\": [0], \"series\": [{\"data\": [0.7854432562952742]}]}], \"run_logs\": \"\\nRun is completed.\", \"graph\": {}, \"widget_settings\": {\"childWidgetDisplay\": \"popup\", \"send_telemetry\": false, \"log_level\": \"INFO\", \"sdk_version\": \"1.48.0\"}, \"loading\": false}"
          },
          "metadata": {}
        },
        {
          "output_type": "display_data",
          "data": {
            "text/plain": "<IPython.core.display.HTML object>",
            "text/html": "<table style=\"width:100%\"><tr><th>Experiment</th><th>Id</th><th>Type</th><th>Status</th><th>Details Page</th><th>Docs Page</th></tr><tr><td>mslearn-churn-automl-sdk</td><td>AutoML_0b639f79-7864-4c18-863a-c91571486e74</td><td>automl</td><td>NotStarted</td><td><a href=\"https://ml.azure.com/runs/AutoML_0b639f79-7864-4c18-863a-c91571486e74?wsid=/subscriptions/bd5c51d3-de0b-41fc-99f7-375e6737efda/resourcegroups/project_dp100/workspaces/project&amp;tid=474565c1-bca4-4295-a2f5-b0c7dbf2591c\" target=\"_blank\" rel=\"noopener\">Link to Azure Machine Learning studio</a></td><td><a href=\"https://docs.microsoft.com/en-us/python/api/overview/azure/ml/intro?view=azure-ml-py\" target=\"_blank\" rel=\"noopener\">Link to Documentation</a></td></tr></table>"
          },
          "metadata": {}
        },
        {
          "output_type": "stream",
          "name": "stdout",
          "text": "\nCurrent status: FeaturesGeneration. Generating features for the dataset.\nCurrent status: DatasetFeaturization. Beginning to fit featurizers and featurize the dataset.\nCurrent status: DatasetFeaturizationCompleted. Completed fit featurizers and featurizing the dataset.\nCurrent status: ModelSelection. Beginning model selection.\n\n********************************************************************************************\nDATA GUARDRAILS: \n\nTYPE:         Class balancing detection\nSTATUS:       PASSED\nDESCRIPTION:  Your inputs were analyzed, and all classes are balanced in your training data.\n              Learn more about imbalanced data: https://aka.ms/AutomatedMLImbalancedData\n\n********************************************************************************************\n\nTYPE:         Missing feature values imputation\nSTATUS:       DONE\nDESCRIPTION:  If the missing values are expected, let the run complete. Otherwise cancel the current run and use a script to customize the handling of missing feature values that may be more appropriate based on the data type and business requirement.\n              Learn more about missing value imputation: https://aka.ms/AutomatedMLFeaturization\nDETAILS:      \n+------------------------------+------------------------------+------------------------------+\n|Column name                   |Missing value count           |Imputation type               |\n+==============================+==============================+==============================+\n|logtoll                       |375                           |mean                          |\n|logequi                       |443                           |mean                          |\n|logcard                       |226                           |mean                          |\n|logwire                       |497                           |mean                          |\n+------------------------------+------------------------------+------------------------------+\n\n********************************************************************************************\n\nTYPE:         High cardinality feature detection\nSTATUS:       PASSED\nDESCRIPTION:  Your inputs were analyzed, and no high cardinality features were detected.\n              Learn more about high cardinality feature handling: https://aka.ms/AutomatedMLFeaturization\n\n********************************************************************************************\n\n********************************************************************************************\nITER: The iteration being evaluated.\nPIPELINE: A summary description of the pipeline being evaluated.\nDURATION: Time taken for the current iteration.\nMETRIC: The result of computing score on the fitted pipeline.\nBEST: The best observed score thus far.\n********************************************************************************************\n\n ITER   PIPELINE                                       DURATION            METRIC      BEST\n    0   MaxAbsScaler LightGBM                          0:00:11             0.7562    0.7562\n    1   MaxAbsScaler XGBoostClassifier                 0:00:11             0.7854    0.7854\n    2    VotingEnsemble                                0:00:37             0.7830    0.7854\n    3    StackEnsemble                                 0:00:32             0.7710    0.7854\n"
        },
        {
          "output_type": "execute_result",
          "execution_count": 7,
          "data": {
            "text/plain": "{'runId': 'AutoML_0b639f79-7864-4c18-863a-c91571486e74',\n 'target': 'your-churn-compute-cluster',\n 'status': 'Completed',\n 'startTimeUtc': '2023-02-03T11:50:36.070583Z',\n 'endTimeUtc': '2023-02-03T11:55:52.42427Z',\n 'services': {},\n 'properties': {'num_iterations': '4',\n  'training_type': 'TrainFull',\n  'acquisition_function': 'EI',\n  'primary_metric': 'AUC_weighted',\n  'train_split': '0',\n  'acquisition_parameter': '0',\n  'num_cross_validation': None,\n  'target': 'your-churn-compute-cluster',\n  'AMLSettingsJsonString': '{\"path\":null,\"name\":\"Automated ML Experiment\",\"subscription_id\":\"bd5c51d3-de0b-41fc-99f7-375e6737efda\",\"resource_group\":\"project_dp100\",\"workspace_name\":\"project\",\"region\":\"eastus\",\"compute_target\":\"your-churn-compute-cluster\",\"spark_service\":null,\"azure_service\":\"remote\",\"many_models\":false,\"pipeline_fetch_max_batch_size\":1,\"enable_batch_run\":true,\"enable_parallel_run\":false,\"num_procs\":null,\"enable_run_restructure\":false,\"start_auxiliary_runs_before_parent_complete\":false,\"enable_code_generation\":true,\"iterations\":4,\"primary_metric\":\"AUC_weighted\",\"task_type\":\"classification\",\"positive_label\":null,\"data_script\":null,\"test_size\":0.0,\"test_include_predictions_only\":false,\"validation_size\":0.0,\"n_cross_validations\":null,\"y_min\":null,\"y_max\":null,\"num_classes\":null,\"featurization\":\"auto\",\"_ignore_package_version_incompatibilities\":false,\"is_timeseries\":false,\"max_cores_per_iteration\":1,\"max_concurrent_iterations\":2,\"iteration_timeout_minutes\":null,\"mem_in_mb\":null,\"enforce_time_on_windows\":false,\"experiment_timeout_minutes\":8640,\"experiment_exit_score\":null,\"partition_column_names\":null,\"whitelist_models\":null,\"blacklist_algos\":[\"TensorFlowLinearClassifier\",\"TensorFlowDNN\"],\"supported_models\":[\"LightGBM\",\"SVM\",\"TensorFlowDNN\",\"TabnetClassifier\",\"BernoulliNaiveBayes\",\"GradientBoosting\",\"LinearSVM\",\"SGD\",\"TensorFlowLinearClassifier\",\"ExtremeRandomTrees\",\"RandomForest\",\"XGBoostClassifier\",\"MultinomialNaiveBayes\",\"KNN\",\"LogisticRegression\",\"AveragedPerceptronClassifier\",\"DecisionTree\"],\"private_models\":[],\"auto_blacklist\":true,\"blacklist_samples_reached\":false,\"exclude_nan_labels\":true,\"verbosity\":20,\"_debug_log\":\"azureml_automl.log\",\"show_warnings\":false,\"model_explainability\":true,\"service_url\":null,\"sdk_url\":null,\"sdk_packages\":null,\"enable_onnx_compatible_models\":false,\"enable_split_onnx_featurizer_estimator_models\":false,\"vm_type\":\"STANDARD_DS11_V2\",\"telemetry_verbosity\":20,\"send_telemetry\":true,\"enable_dnn\":false,\"scenario\":\"AutoML\",\"environment_label\":null,\"save_mlflow\":false,\"enable_categorical_indicators\":false,\"force_text_dnn\":false,\"enable_feature_sweeping\":true,\"enable_early_stopping\":true,\"early_stopping_n_iters\":10,\"arguments\":null,\"dataset_id\":\"e15d0622-32ff-453e-b84d-dd3f5e81d4ff\",\"hyperdrive_config\":null,\"validation_dataset_id\":\"1ad3aa71-79e9-4607-94fe-34f8405f4075\",\"run_source\":null,\"metrics\":null,\"enable_metric_confidence\":false,\"enable_ensembling\":true,\"enable_stack_ensembling\":true,\"ensemble_iterations\":4,\"enable_tf\":false,\"enable_subsampling\":false,\"subsample_seed\":null,\"enable_nimbusml\":false,\"enable_streaming\":false,\"force_streaming\":false,\"track_child_runs\":true,\"n_best_runs\":1,\"allowed_private_models\":[],\"label_column_name\":\"churn\",\"weight_column_name\":null,\"cv_split_column_names\":null,\"enable_local_managed\":false,\"_local_managed_run_id\":null,\"cost_mode\":1,\"lag_length\":0,\"metric_operation\":\"maximize\",\"preprocess\":true}',\n  'DataPrepJsonString': '{\\\\\"training_data\\\\\": {\\\\\"datasetId\\\\\": \\\\\"e15d0622-32ff-453e-b84d-dd3f5e81d4ff\\\\\"}, \\\\\"validation_data\\\\\": {\\\\\"datasetId\\\\\": \\\\\"1ad3aa71-79e9-4607-94fe-34f8405f4075\\\\\"}, \\\\\"datasets\\\\\": 0}',\n  'EnableSubsampling': 'False',\n  'runTemplate': 'AutoML',\n  'azureml.runsource': 'automl',\n  'display_task_type': 'classification',\n  'dependencies_versions': '{\"azureml-widgets\": \"1.48.0\", \"azureml-training-tabular\": \"1.48.0\", \"azureml-train\": \"1.48.0\", \"azureml-train-restclients-hyperdrive\": \"1.48.0\", \"azureml-train-core\": \"1.48.0\", \"azureml-train-automl\": \"1.48.0\", \"azureml-train-automl-runtime\": \"1.48.0\", \"azureml-train-automl-client\": \"1.48.0\", \"azureml-tensorboard\": \"1.48.0\", \"azureml-telemetry\": \"1.48.0\", \"azureml-sdk\": \"1.48.0\", \"azureml-samples\": \"0+unknown\", \"azureml-responsibleai\": \"1.48.0\", \"azureml-pipeline\": \"1.48.0\", \"azureml-pipeline-steps\": \"1.48.0\", \"azureml-pipeline-core\": \"1.48.0\", \"azureml-opendatasets\": \"1.48.0\", \"azureml-mlflow\": \"1.48.0\", \"azureml-interpret\": \"1.48.0\", \"azureml-inference-server-http\": \"0.7.7\", \"azureml-explain-model\": \"1.48.0\", \"azureml-defaults\": \"1.48.0\", \"azureml-dataset-runtime\": \"1.48.0\", \"azureml-dataprep\": \"4.8.3\", \"azureml-dataprep-rslex\": \"2.15.1\", \"azureml-dataprep-native\": \"38.0.0\", \"azureml-datadrift\": \"1.48.0\", \"azureml-core\": \"1.48.0\", \"azureml-contrib-services\": \"1.48.0\", \"azureml-contrib-server\": \"1.48.0\", \"azureml-contrib-reinforcementlearning\": \"1.48.0\", \"azureml-contrib-pipeline-steps\": \"1.48.0\", \"azureml-contrib-notebook\": \"1.48.0\", \"azureml-contrib-fairness\": \"1.48.0\", \"azureml-contrib-dataset\": \"1.48.0\", \"azureml-contrib-automl-pipeline-steps\": \"1.48.0\", \"azureml-cli-common\": \"1.48.0\", \"azureml-automl-runtime\": \"1.48.0.post1\", \"azureml-automl-dnn-nlp\": \"1.48.0\", \"azureml-automl-core\": \"1.48.0\", \"azureml-accel-models\": \"1.48.0\"}',\n  '_aml_system_scenario_identification': 'Remote.Parent',\n  'ClientType': 'SDK',\n  'environment_cpu_name': 'AzureML-AutoML',\n  'environment_cpu_label': 'prod',\n  'environment_gpu_name': 'AzureML-AutoML-GPU',\n  'environment_gpu_label': 'prod',\n  'root_attribution': 'automl',\n  'attribution': 'AutoML',\n  'Orchestrator': 'AutoML',\n  'CancelUri': 'https://eastus.api.azureml.ms/jasmine/v1.0/subscriptions/bd5c51d3-de0b-41fc-99f7-375e6737efda/resourceGroups/project_dp100/providers/Microsoft.MachineLearningServices/workspaces/project/experimentids/5cde3b24-4eea-43c6-8e60-6840b88400e5/cancel/AutoML_0b639f79-7864-4c18-863a-c91571486e74',\n  'ClientSdkVersion': '1.48.0.post2',\n  'snapshotId': '00000000-0000-0000-0000-000000000000',\n  'SetupRunId': 'AutoML_0b639f79-7864-4c18-863a-c91571486e74_setup',\n  'SetupRunContainerId': 'dcid.AutoML_0b639f79-7864-4c18-863a-c91571486e74_setup',\n  'FeaturizationRunJsonPath': 'featurizer_container.json',\n  'FeaturizationRunId': 'AutoML_0b639f79-7864-4c18-863a-c91571486e74_featurize',\n  'ProblemInfoJsonString': '{\"dataset_num_categorical\": 0, \"is_sparse\": true, \"subsampling\": false, \"has_extra_col\": true, \"dataset_classes\": 2, \"dataset_features\": 61, \"dataset_samples\": 699, \"single_frequency_class_detected\": false}',\n  'ModelExplainRunId': 'AutoML_0b639f79-7864-4c18-863a-c91571486e74_ModelExplain'},\n 'inputDatasets': [{'dataset': {'id': 'e15d0622-32ff-453e-b84d-dd3f5e81d4ff'}, 'consumptionDetails': {'type': 'RunInput', 'inputName': 'training_data', 'mechanism': 'Direct'}}, {'dataset': {'id': '1ad3aa71-79e9-4607-94fe-34f8405f4075'}, 'consumptionDetails': {'type': 'RunInput', 'inputName': 'validation_data', 'mechanism': 'Direct'}}],\n 'outputDatasets': [],\n 'logFiles': {},\n 'submittedBy': 'Mohit Raj Nayak'}"
          },
          "metadata": {}
        }
      ],
      "execution_count": 7,
      "metadata": {
        "jupyter": {
          "source_hidden": false,
          "outputs_hidden": false
        },
        "nteract": {
          "transient": {
            "deleting": false
          }
        },
        "gather": {
          "logged": 1675425374318
        }
      }
    },
    {
      "cell_type": "code",
      "source": [
        "for run in automl_run.get_children():\r\n",
        "    print('Run ID', run.id)\r\n",
        "    for metric in run.get_metrics():\r\n",
        "        print('\\t', run.get_metrics(metric))"
      ],
      "outputs": [
        {
          "output_type": "stream",
          "name": "stdout",
          "text": "Run ID AutoML_0b639f79-7864-4c18-863a-c91571486e74_3\n\t {'matthews_correlation': 0.3268857062272351}\n\t {'f1_score_weighted': 0.7465789665954499}\n\t {'recall_score_weighted': 0.7740863787375415}\n\t {'weighted_accuracy': 0.8659989608155806}\n\t {'AUC_weighted': 0.7710129929860873}\n\t {'precision_score_weighted': 0.7523803159328419}\n\t {'average_precision_score_weighted': 0.8008426427906363}\n\t {'balanced_accuracy': 0.6266241232608946}\n\t {'f1_score_micro': 0.7740863787375415}\n\t {'average_precision_score_macro': 0.7143152310633113}\n\t {'AUC_macro': 0.7710129929860872}\n\t {'average_precision_score_micro': 0.8429124206935179}\n\t {'accuracy': 0.7740863787375415}\n\t {'precision_score_macro': 0.7109674329501916}\n\t {'precision_score_micro': 0.7740863787375415}\n\t {'log_loss': 0.4972722347262396}\n\t {'AUC_micro': 0.8502224037262283}\n\t {'norm_macro_recall': 0.2532482465217891}\n\t {'recall_score_macro': 0.6266241232608946}\n\t {'f1_score_macro': 0.6416164728953635}\n\t {'recall_score_micro': 0.7740863787375415}\n\t {'confusion_matrix': 'aml://artifactId/ExperimentRun/dcid.AutoML_0b639f79-7864-4c18-863a-c91571486e74_3/confusion_matrix'}\n\t {'accuracy_table': 'aml://artifactId/ExperimentRun/dcid.AutoML_0b639f79-7864-4c18-863a-c91571486e74_3/accuracy_table'}\nRun ID AutoML_0b639f79-7864-4c18-863a-c91571486e74_2\n\t {'average_precision_score_weighted': 0.8057387378548706}\n\t {'recall_score_macro': 0.6663792112222606}\n\t {'f1_score_weighted': 0.7651007072151439}\n\t {'f1_score_micro': 0.7774086378737542}\n\t {'AUC_micro': 0.8533018399355414}\n\t {'weighted_accuracy': 0.8466127963019368}\n\t {'precision_score_micro': 0.7774086378737541}\n\t {'log_loss': 0.6004375098404808}\n\t {'AUC_macro': 0.7830286305622629}\n\t {'precision_score_macro': 0.7080816796088583}\n\t {'average_precision_score_micro': 0.8437181374246164}\n\t {'f1_score_macro': 0.6801173764771196}\n\t {'average_precision_score_macro': 0.7210753311188184}\n\t {'precision_score_weighted': 0.761837877193938}\n\t {'matthews_correlation': 0.37213151289900165}\n\t {'norm_macro_recall': 0.33275842244452125}\n\t {'recall_score_micro': 0.7774086378737541}\n\t {'balanced_accuracy': 0.6663792112222606}\n\t {'recall_score_weighted': 0.7774086378737541}\n\t {'AUC_weighted': 0.783028630562263}\n\t {'accuracy': 0.7774086378737541}\n\t {'confusion_matrix': 'aml://artifactId/ExperimentRun/dcid.AutoML_0b639f79-7864-4c18-863a-c91571486e74_2/confusion_matrix'}\n\t {'accuracy_table': 'aml://artifactId/ExperimentRun/dcid.AutoML_0b639f79-7864-4c18-863a-c91571486e74_2/accuracy_table'}\nRun ID AutoML_0b639f79-7864-4c18-863a-c91571486e74_1\n\t {'precision_score_micro': 0.7740863787375415}\n\t {'weighted_accuracy': 0.8426173113790694}\n\t {'average_precision_score_micro': 0.8443682564293514}\n\t {'AUC_weighted': 0.7854432562952742}\n\t {'average_precision_score_macro': 0.7218055366678686}\n\t {'matthews_correlation': 0.36468612627327046}\n\t {'precision_score_macro': 0.7025684688519938}\n\t {'AUC_micro': 0.8545049171642698}\n\t {'norm_macro_recall': 0.3282741175117856}\n\t {'average_precision_score_weighted': 0.8063467299421802}\n\t {'recall_score_weighted': 0.7740863787375415}\n\t {'log_loss': 0.6189491470806332}\n\t {'AUC_macro': 0.7854432562952742}\n\t {'recall_score_micro': 0.7740863787375415}\n\t {'recall_score_macro': 0.6641370587558928}\n\t {'precision_score_weighted': 0.7586230468703962}\n\t {'balanced_accuracy': 0.6641370587558928}\n\t {'accuracy': 0.7740863787375415}\n\t {'f1_score_macro': 0.6770386266094421}\n\t {'f1_score_weighted': 0.7623230148432264}\n\t {'f1_score_micro': 0.7740863787375415}\n\t {'accuracy_table': 'aml://artifactId/ExperimentRun/dcid.AutoML_0b639f79-7864-4c18-863a-c91571486e74_1/accuracy_table'}\n\t {'confusion_matrix': 'aml://artifactId/ExperimentRun/dcid.AutoML_0b639f79-7864-4c18-863a-c91571486e74_1/confusion_matrix'}\nRun ID AutoML_0b639f79-7864-4c18-863a-c91571486e74_0\n\t {'precision_score_macro': 0.6647972389991372}\n\t {'log_loss': 0.6290620751680075}\n\t {'recall_score_weighted': 0.7508305647840532}\n\t {'accuracy': 0.7508305647840532}\n\t {'matthews_correlation': 0.29472198602782024}\n\t {'average_precision_score_weighted': 0.7931297617238613}\n\t {'recall_score_micro': 0.7508305647840532}\n\t {'weighted_accuracy': 0.8250407611130023}\n\t {'precision_score_weighted': 0.7315075718270132}\n\t {'f1_score_micro': 0.7508305647840532}\n\t {'AUC_macro': 0.7562377831436127}\n\t {'f1_score_macro': 0.6419224363549845}\n\t {'recall_score_macro': 0.6317695757157641}\n\t {'balanced_accuracy': 0.6317695757157641}\n\t {'AUC_micro': 0.8391518857407756}\n\t {'f1_score_weighted': 0.737053030464713}\n\t {'average_precision_score_micro': 0.8325750091536779}\n\t {'AUC_weighted': 0.7562377831436128}\n\t {'norm_macro_recall': 0.2635391514315282}\n\t {'average_precision_score_macro': 0.704422664096596}\n\t {'precision_score_micro': 0.7508305647840532}\n\t {'confusion_matrix': 'aml://artifactId/ExperimentRun/dcid.AutoML_0b639f79-7864-4c18-863a-c91571486e74_0/confusion_matrix'}\n\t {'accuracy_table': 'aml://artifactId/ExperimentRun/dcid.AutoML_0b639f79-7864-4c18-863a-c91571486e74_0/accuracy_table'}\nRun ID AutoML_0b639f79-7864-4c18-863a-c91571486e74_worker_1\nRun ID AutoML_0b639f79-7864-4c18-863a-c91571486e74_worker_0\nRun ID AutoML_0b639f79-7864-4c18-863a-c91571486e74_featurize\nRun ID AutoML_0b639f79-7864-4c18-863a-c91571486e74_setup\n"
        }
      ],
      "execution_count": 8,
      "metadata": {
        "jupyter": {
          "source_hidden": false,
          "outputs_hidden": false
        },
        "nteract": {
          "transient": {
            "deleting": false
          }
        },
        "gather": {
          "logged": 1675425444745
        }
      }
    },
    {
      "cell_type": "code",
      "source": [
        "best_run, fitted_model = automl_run.get_output()\r\n",
        "print(best_run)\r\n",
        "print('\\nBest Model Definition:')\r\n",
        "print(fitted_model)\r\n",
        "print('\\nBest Run Transformations:')\r\n",
        "for step in fitted_model.named_steps:\r\n",
        "    print(step)\r\n",
        "print('\\nBest Run Metrics:')\r\n",
        "best_run_metrics = best_run.get_metrics()\r\n",
        "for metric_name in best_run_metrics:\r\n",
        "    metric = best_run_metrics[metric_name]\r\n",
        "    print(metric_name, metric)"
      ],
      "outputs": [
        {
          "output_type": "error",
          "ename": "PermissionError",
          "evalue": "[Errno 1] Operation not permitted: '/anaconda/envs/azureml_py38/lib/python3.8/site-packages/nimbusml/internal/libs/pybridge.so'",
          "traceback": [
            "\u001b[0;31m---------------------------------------------------------------------------\u001b[0m",
            "\u001b[0;31mPermissionError\u001b[0m                           Traceback (most recent call last)",
            "Cell \u001b[0;32mIn[10], line 1\u001b[0m\n\u001b[0;32m----> 1\u001b[0m best_run, fitted_model \u001b[38;5;241m=\u001b[39m \u001b[43mautoml_run\u001b[49m\u001b[38;5;241;43m.\u001b[39;49m\u001b[43mget_output\u001b[49m\u001b[43m(\u001b[49m\u001b[43m)\u001b[49m\n\u001b[1;32m      2\u001b[0m \u001b[38;5;28mprint\u001b[39m(best_run)\n\u001b[1;32m      3\u001b[0m \u001b[38;5;28mprint\u001b[39m(\u001b[38;5;124m'\u001b[39m\u001b[38;5;130;01m\\n\u001b[39;00m\u001b[38;5;124mBest Model Definition:\u001b[39m\u001b[38;5;124m'\u001b[39m)\n",
            "File \u001b[0;32m/anaconda/envs/azureml_py38/lib/python3.8/site-packages/azureml/train/automl/run.py:718\u001b[0m, in \u001b[0;36mAutoMLRun.get_output\u001b[0;34m(self, iteration, metric, return_onnx_model, return_split_onnx_model, **kwargs)\u001b[0m\n\u001b[1;32m    716\u001b[0m         fitted_model \u001b[38;5;241m=\u001b[39m _download_automl_onnx_model(curr_run, model_name)\n\u001b[1;32m    717\u001b[0m     \u001b[38;5;28;01melse\u001b[39;00m:\n\u001b[0;32m--> 718\u001b[0m         fitted_model \u001b[38;5;241m=\u001b[39m \u001b[43m_download_automl_model\u001b[49m\u001b[43m(\u001b[49m\u001b[43mcurr_run\u001b[49m\u001b[43m,\u001b[49m\u001b[43m \u001b[49m\u001b[43mmodel_name\u001b[49m\u001b[43m)\u001b[49m\n\u001b[1;32m    720\u001b[0m \u001b[38;5;28;01mreturn\u001b[39;00m curr_run, fitted_model\n",
            "File \u001b[0;32m/anaconda/envs/azureml_py38/lib/python3.8/site-packages/azureml/train/automl/_model_download_utilities.py:80\u001b[0m, in \u001b[0;36m_download_automl_model\u001b[0;34m(run, model_name)\u001b[0m\n\u001b[1;32m     75\u001b[0m     \u001b[38;5;28;01mraise\u001b[39;00m ClientException(\u001b[38;5;28mstr\u001b[39m(e))\u001b[38;5;241m.\u001b[39mwith_generic_msg(\u001b[38;5;124m'\u001b[39m\u001b[38;5;124mDownloading AutoML model failed.\u001b[39m\u001b[38;5;124m'\u001b[39m) \u001b[38;5;28;01mfrom\u001b[39;00m \u001b[38;5;28mNone\u001b[39m\n\u001b[1;32m     77\u001b[0m \u001b[38;5;28;01mtry\u001b[39;00m:\n\u001b[1;32m     78\u001b[0m     \u001b[38;5;66;03m# Pass through any exceptions from loading the model.\u001b[39;00m\n\u001b[1;32m     79\u001b[0m     \u001b[38;5;66;03m# Try is used here to ensure we can cleanup the side effect of model downlad.\u001b[39;00m\n\u001b[0;32m---> 80\u001b[0m     model \u001b[38;5;241m=\u001b[39m \u001b[43m_load_automl_model\u001b[49m\u001b[43m(\u001b[49m\u001b[43mmodel_path\u001b[49m\u001b[43m,\u001b[49m\u001b[43m \u001b[49m\u001b[43msuffix\u001b[49m\u001b[43m)\u001b[49m\n\u001b[1;32m     81\u001b[0m     \u001b[38;5;28;01mif\u001b[39;00m model \u001b[38;5;129;01mis\u001b[39;00m \u001b[38;5;28;01mNone\u001b[39;00m:\n\u001b[1;32m     82\u001b[0m         \u001b[38;5;66;03m# If we can retrieve the automl runtime version, we do so we can inform the user what to install.\u001b[39;00m\n\u001b[1;32m     83\u001b[0m         \u001b[38;5;66;03m# Otherwise just tell them to install latest runtime version (this is not an expected scenario).\u001b[39;00m\n\u001b[1;32m     84\u001b[0m         automl_runtime_ver \u001b[38;5;241m=\u001b[39m azureml_run_deps\u001b[38;5;241m.\u001b[39mget(\u001b[38;5;124m\"\u001b[39m\u001b[38;5;124mazureml-train-automl-runtime\u001b[39m\u001b[38;5;124m\"\u001b[39m, \u001b[38;5;28;01mNone\u001b[39;00m)\n",
            "File \u001b[0;32m/anaconda/envs/azureml_py38/lib/python3.8/site-packages/azureml/train/automl/_model_download_utilities.py:172\u001b[0m, in \u001b[0;36m_load_automl_model\u001b[0;34m(model_path, suffix)\u001b[0m\n\u001b[1;32m    170\u001b[0m \u001b[38;5;28;01mif\u001b[39;00m \u001b[38;5;129;01mnot\u001b[39;00m is_torch_model:\n\u001b[1;32m    171\u001b[0m     \u001b[38;5;28;01mwith\u001b[39;00m \u001b[38;5;28mopen\u001b[39m(model_path, \u001b[38;5;124m\"\u001b[39m\u001b[38;5;124mrb\u001b[39m\u001b[38;5;124m\"\u001b[39m) \u001b[38;5;28;01mas\u001b[39;00m model_file:\n\u001b[0;32m--> 172\u001b[0m         fitted_model \u001b[38;5;241m=\u001b[39m \u001b[43mpickle\u001b[49m\u001b[38;5;241;43m.\u001b[39;49m\u001b[43mload\u001b[49m\u001b[43m(\u001b[49m\u001b[43mmodel_file\u001b[49m\u001b[43m)\u001b[49m  \u001b[38;5;66;03m# type: Optional[Any]\u001b[39;00m\n\u001b[1;32m    173\u001b[0m         \u001b[38;5;28;01mreturn\u001b[39;00m fitted_model\n\u001b[1;32m    174\u001b[0m \u001b[38;5;28;01melse\u001b[39;00m:\n\u001b[1;32m    175\u001b[0m     \u001b[38;5;66;03m# Load the torch model with pytorch.\u001b[39;00m\n",
            "File \u001b[0;32m/anaconda/envs/azureml_py38/lib/python3.8/site-packages/azureml/training/tabular/models/__init__.py:6\u001b[0m\n\u001b[1;32m      4\u001b[0m \u001b[38;5;28;01mfrom\u001b[39;00m \u001b[38;5;21;01m.\u001b[39;00m\u001b[38;5;21;01m_abstract_model_wrapper\u001b[39;00m \u001b[38;5;28;01mimport\u001b[39;00m _AbstractModelWrapper\n\u001b[1;32m      5\u001b[0m \u001b[38;5;28;01mfrom\u001b[39;00m \u001b[38;5;21;01m.\u001b[39;00m\u001b[38;5;21;01mcalibrated_model\u001b[39;00m \u001b[38;5;28;01mimport\u001b[39;00m CalibratedModel\n\u001b[0;32m----> 6\u001b[0m \u001b[38;5;28;01mfrom\u001b[39;00m \u001b[38;5;21;01m.\u001b[39;00m\u001b[38;5;21;01mforecasting_pipeline_wrapper\u001b[39;00m \u001b[38;5;28;01mimport\u001b[39;00m RegressionPipeline, ForecastingPipelineWrapper\n\u001b[1;32m      7\u001b[0m \u001b[38;5;28;01mfrom\u001b[39;00m \u001b[38;5;21;01m.\u001b[39;00m\u001b[38;5;21;01mpipeline_with_ytransformations\u001b[39;00m \u001b[38;5;28;01mimport\u001b[39;00m PipelineWithYTransformations\n\u001b[1;32m      8\u001b[0m \u001b[38;5;28;01mfrom\u001b[39;00m \u001b[38;5;21;01m.\u001b[39;00m\u001b[38;5;21;01msparse_scale_zero_one\u001b[39;00m \u001b[38;5;28;01mimport\u001b[39;00m SparseScaleZeroOne\n",
            "File \u001b[0;32m/anaconda/envs/azureml_py38/lib/python3.8/site-packages/azureml/training/tabular/models/forecasting_pipeline_wrapper.py:10\u001b[0m\n\u001b[1;32m      7\u001b[0m \u001b[38;5;28;01mimport\u001b[39;00m \u001b[38;5;21;01muuid\u001b[39;00m\n\u001b[1;32m      8\u001b[0m \u001b[38;5;28;01mfrom\u001b[39;00m \u001b[38;5;21;01mtyping\u001b[39;00m \u001b[38;5;28;01mimport\u001b[39;00m Any, Dict, List, Optional, Tuple, Union, cast\n\u001b[0;32m---> 10\u001b[0m \u001b[38;5;28;01mimport\u001b[39;00m \u001b[38;5;21;01mnimbusml\u001b[39;00m\n\u001b[1;32m     11\u001b[0m \u001b[38;5;28;01mimport\u001b[39;00m \u001b[38;5;21;01mnumpy\u001b[39;00m \u001b[38;5;28;01mas\u001b[39;00m \u001b[38;5;21;01mnp\u001b[39;00m\n\u001b[1;32m     12\u001b[0m \u001b[38;5;28;01mimport\u001b[39;00m \u001b[38;5;21;01mpandas\u001b[39;00m \u001b[38;5;28;01mas\u001b[39;00m \u001b[38;5;21;01mpd\u001b[39;00m\n",
            "File \u001b[0;32m/anaconda/envs/azureml_py38/lib/python3.8/site-packages/nimbusml/__init__.py:33\u001b[0m\n\u001b[1;32m     31\u001b[0m     mode \u001b[38;5;241m=\u001b[39m \u001b[38;5;28moct\u001b[39m(os\u001b[38;5;241m.\u001b[39mstat(dotso)\u001b[38;5;241m.\u001b[39mst_mode \u001b[38;5;241m&\u001b[39m \u001b[38;5;241m0o777\u001b[39m)\n\u001b[1;32m     32\u001b[0m     \u001b[38;5;28;01mif\u001b[39;00m mode \u001b[38;5;241m!=\u001b[39m \u001b[38;5;124m\"\u001b[39m\u001b[38;5;124m0o755\u001b[39m\u001b[38;5;124m\"\u001b[39m:\n\u001b[0;32m---> 33\u001b[0m         \u001b[43mos\u001b[49m\u001b[38;5;241;43m.\u001b[39;49m\u001b[43mchmod\u001b[49m\u001b[43m(\u001b[49m\u001b[43mdotso\u001b[49m\u001b[43m,\u001b[49m\u001b[43m \u001b[49m\u001b[38;5;241;43m0o755\u001b[39;49m\u001b[43m)\u001b[49m\n\u001b[1;32m     35\u001b[0m \u001b[38;5;66;03m# clean up the package namespace\u001b[39;00m\n\u001b[1;32m     36\u001b[0m \u001b[38;5;28;01mdel\u001b[39;00m os, sys\n",
            "\u001b[0;31mPermissionError\u001b[0m: [Errno 1] Operation not permitted: '/anaconda/envs/azureml_py38/lib/python3.8/site-packages/nimbusml/internal/libs/pybridge.so'"
          ]
        }
      ],
      "execution_count": 10,
      "metadata": {
        "jupyter": {
          "source_hidden": false,
          "outputs_hidden": false
        },
        "nteract": {
          "transient": {
            "deleting": false
          }
        },
        "gather": {
          "logged": 1675425483997
        }
      }
    },
    {
      "cell_type": "code",
      "source": [],
      "outputs": [],
      "execution_count": null,
      "metadata": {
        "jupyter": {
          "source_hidden": false,
          "outputs_hidden": false
        },
        "nteract": {
          "transient": {
            "deleting": false
          }
        }
      }
    }
  ],
  "metadata": {
    "kernelspec": {
      "name": "python38-azureml",
      "language": "python",
      "display_name": "Python 3.8 - AzureML"
    },
    "language_info": {
      "name": "python",
      "version": "3.8.10",
      "mimetype": "text/x-python",
      "codemirror_mode": {
        "name": "ipython",
        "version": 3
      },
      "pygments_lexer": "ipython3",
      "nbconvert_exporter": "python",
      "file_extension": ".py"
    },
    "kernel_info": {
      "name": "python38-azureml"
    },
    "microsoft": {
      "host": {
        "AzureML": {
          "notebookHasBeenCompleted": true
        }
      }
    },
    "nteract": {
      "version": "nteract-front-end@1.0.0"
    }
  },
  "nbformat": 4,
  "nbformat_minor": 2
}