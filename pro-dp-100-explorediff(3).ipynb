{
  "cells": [
    {
      "cell_type": "code",
      "source": [
        "pip install opendp-smartnoise==0.1.4.2"
      ],
      "outputs": [
        {
          "output_type": "stream",
          "name": "stdout",
          "text": "Collecting opendp-smartnoise==0.1.4.2\n  Using cached opendp_smartnoise-0.1.4.2-py3-none-any.whl (193 kB)\nRequirement already satisfied: msrest in /anaconda/envs/azureml_py38/lib/python3.8/site-packages (from opendp-smartnoise==0.1.4.2) (0.7.1)\nCollecting opendp-smartnoise-core\n  Using cached opendp_smartnoise_core-0.2.3-py3-none-any.whl (12.7 MB)\nRequirement already satisfied: pandas in /anaconda/envs/azureml_py38/lib/python3.8/site-packages (from opendp-smartnoise==0.1.4.2) (1.1.5)\nCollecting antlr4-python3-runtime==4.8\n  Using cached antlr4-python3-runtime-4.8.tar.gz (112 kB)\nRequirement already satisfied: scipy in /anaconda/envs/azureml_py38/lib/python3.8/site-packages (from opendp-smartnoise==0.1.4.2) (1.5.3)\nCollecting pandasql\n  Using cached pandasql-0.7.3.tar.gz (26 kB)\nRequirement already satisfied: pyyaml in /anaconda/envs/azureml_py38/lib/python3.8/site-packages (from opendp-smartnoise==0.1.4.2) (6.0)\nRequirement already satisfied: statsmodels in /anaconda/envs/azureml_py38/lib/python3.8/site-packages (from opendp-smartnoise==0.1.4.2) (0.11.0)\nRequirement already satisfied: numpy in /anaconda/envs/azureml_py38/lib/python3.8/site-packages (from opendp-smartnoise==0.1.4.2) (1.21.6)\nRequirement already satisfied: isodate>=0.6.0 in /anaconda/envs/azureml_py38/lib/python3.8/site-packages (from msrest->opendp-smartnoise==0.1.4.2) (0.6.1)\nRequirement already satisfied: requests-oauthlib>=0.5.0 in /anaconda/envs/azureml_py38/lib/python3.8/site-packages (from msrest->opendp-smartnoise==0.1.4.2) (1.3.1)\nRequirement already satisfied: certifi>=2017.4.17 in /anaconda/envs/azureml_py38/lib/python3.8/site-packages (from msrest->opendp-smartnoise==0.1.4.2) (2022.12.7)\nRequirement already satisfied: azure-core>=1.24.0 in /anaconda/envs/azureml_py38/lib/python3.8/site-packages (from msrest->opendp-smartnoise==0.1.4.2) (1.26.1)\nRequirement already satisfied: requests~=2.16 in /anaconda/envs/azureml_py38/lib/python3.8/site-packages (from msrest->opendp-smartnoise==0.1.4.2) (2.28.1)\nRequirement already satisfied: protobuf in /anaconda/envs/azureml_py38/lib/python3.8/site-packages (from opendp-smartnoise-core->opendp-smartnoise==0.1.4.2) (3.20.1)\nRequirement already satisfied: pytz>=2017.2 in /anaconda/envs/azureml_py38/lib/python3.8/site-packages (from pandas->opendp-smartnoise==0.1.4.2) (2022.5)\nRequirement already satisfied: python-dateutil>=2.7.3 in /anaconda/envs/azureml_py38/lib/python3.8/site-packages (from pandas->opendp-smartnoise==0.1.4.2) (2.8.2)\nCollecting sqlalchemy\n  Downloading SQLAlchemy-2.0.1-cp38-cp38-manylinux_2_17_x86_64.manylinux2014_x86_64.whl (2.8 MB)\n\u001b[K     |████████████████████████████████| 2.8 MB 6.4 MB/s eta 0:00:01\n\u001b[?25hRequirement already satisfied: patsy>=0.5 in /anaconda/envs/azureml_py38/lib/python3.8/site-packages (from statsmodels->opendp-smartnoise==0.1.4.2) (0.5.3)\nRequirement already satisfied: six in /anaconda/envs/azureml_py38/lib/python3.8/site-packages (from isodate>=0.6.0->msrest->opendp-smartnoise==0.1.4.2) (1.16.0)\nRequirement already satisfied: oauthlib>=3.0.0 in /anaconda/envs/azureml_py38/lib/python3.8/site-packages (from requests-oauthlib>=0.5.0->msrest->opendp-smartnoise==0.1.4.2) (3.2.2)\nRequirement already satisfied: typing-extensions>=4.0.1 in /anaconda/envs/azureml_py38/lib/python3.8/site-packages (from azure-core>=1.24.0->msrest->opendp-smartnoise==0.1.4.2) (4.4.0)\nRequirement already satisfied: urllib3<1.27,>=1.21.1 in /anaconda/envs/azureml_py38/lib/python3.8/site-packages (from requests~=2.16->msrest->opendp-smartnoise==0.1.4.2) (1.26.13)\nRequirement already satisfied: charset-normalizer<3,>=2 in /anaconda/envs/azureml_py38/lib/python3.8/site-packages (from requests~=2.16->msrest->opendp-smartnoise==0.1.4.2) (2.1.1)\nRequirement already satisfied: idna<4,>=2.5 in /anaconda/envs/azureml_py38/lib/python3.8/site-packages (from requests~=2.16->msrest->opendp-smartnoise==0.1.4.2) (3.4)\nRequirement already satisfied: greenlet!=0.4.17; platform_machine == \"aarch64\" or (platform_machine == \"ppc64le\" or (platform_machine == \"x86_64\" or (platform_machine == \"amd64\" or (platform_machine == \"AMD64\" or (platform_machine == \"win32\" or platform_machine == \"WIN32\"))))) in /anaconda/envs/azureml_py38/lib/python3.8/site-packages (from sqlalchemy->pandasql->opendp-smartnoise==0.1.4.2) (2.0.1)\nBuilding wheels for collected packages: antlr4-python3-runtime, pandasql\n  Building wheel for antlr4-python3-runtime (setup.py) ... \u001b[?25l-\b \b\\\b \bdone\n\u001b[?25h  Created wheel for antlr4-python3-runtime: filename=antlr4_python3_runtime-4.8-py3-none-any.whl size=141231 sha256=a5a6430ef25134dba70c716911d715f88a2cd6df053637278d4105cb3747ee29\n  Stored in directory: /home/azureuser/.cache/pip/wheels/c8/d0/ab/d43c02eaddc5b9004db86950802442ad9a26f279c619e28da0\n  Building wheel for pandasql (setup.py) ... \u001b[?25l-\b \bdone\n\u001b[?25h  Created wheel for pandasql: filename=pandasql-0.7.3-py3-none-any.whl size=26818 sha256=f11a8687c1ac974ae5499288a96adb3540d0119120892006fcab2731aff906e6\n  Stored in directory: /home/azureuser/.cache/pip/wheels/ed/8f/46/a383923333728744f01ba24adbd8e364f2cb9470a8b8e5b9ff\nSuccessfully built antlr4-python3-runtime pandasql\n\u001b[31mERROR: azure-cli 2.44.1 has requirement antlr4-python3-runtime~=4.9.3, but you'll have antlr4-python3-runtime 4.8 which is incompatible.\u001b[0m\n\u001b[31mERROR: azure-cli 2.44.1 has requirement azure-graphrbac~=0.60.0, but you'll have azure-graphrbac 0.61.1 which is incompatible.\u001b[0m\n\u001b[31mERROR: azure-cli 2.44.1 has requirement azure-mgmt-authorization~=0.61.0, but you'll have azure-mgmt-authorization 3.0.0 which is incompatible.\u001b[0m\n\u001b[31mERROR: azure-cli 2.44.1 has requirement azure-mgmt-network~=21.0.1, but you'll have azure-mgmt-network 22.2.0 which is incompatible.\u001b[0m\n\u001b[31mERROR: azure-cli 2.44.1 has requirement azure-mgmt-resource==21.1.0b1, but you'll have azure-mgmt-resource 21.2.1 which is incompatible.\u001b[0m\n\u001b[31mERROR: azure-cli 2.44.1 has requirement azure-mgmt-storage~=21.0.0, but you'll have azure-mgmt-storage 20.1.0 which is incompatible.\u001b[0m\n\u001b[31mERROR: azure-cli 2.44.1 has requirement websocket-client~=1.3.1, but you'll have websocket-client 1.4.2 which is incompatible.\u001b[0m\nInstalling collected packages: opendp-smartnoise-core, antlr4-python3-runtime, sqlalchemy, pandasql, opendp-smartnoise\n  Attempting uninstall: antlr4-python3-runtime\n    Found existing installation: antlr4-python3-runtime 4.9.3\n    Uninstalling antlr4-python3-runtime-4.9.3:\n      Successfully uninstalled antlr4-python3-runtime-4.9.3\nSuccessfully installed antlr4-python3-runtime-4.8 opendp-smartnoise-0.1.4.2 opendp-smartnoise-core-0.2.3 pandasql-0.7.3 sqlalchemy-2.0.1\nNote: you may need to restart the kernel to use updated packages.\n"
        }
      ],
      "execution_count": 1,
      "metadata": {
        "gather": {
          "logged": 1675434927307
        }
      }
    },
    {
      "cell_type": "code",
      "source": [
        "import pandas as pd\r\n",
        "\r\n",
        "data_path = 'data/telco-csv.csv'\r\n",
        "churn = pd.read_csv(data_path)\r\n",
        "churn.describe()"
      ],
      "outputs": [
        {
          "output_type": "execute_result",
          "execution_count": 1,
          "data": {
            "text/plain": "            tenure          age      address       income       employ  \\\ncount  1000.000000  1000.000000  1000.000000  1000.000000  1000.000000   \nmean     35.526000    41.684000    11.551000    77.535000    10.987000   \nstd      21.359812    12.558816    10.086681   107.044165    10.082087   \nmin       1.000000    18.000000     0.000000     9.000000     0.000000   \n25%      17.000000    32.000000     3.000000    29.000000     3.000000   \n50%      34.000000    40.000000     9.000000    47.000000     8.000000   \n75%      54.000000    51.000000    18.000000    83.000000    17.000000   \nmax      72.000000    77.000000    55.000000  1668.000000    47.000000   \n\n            reside      longmon      tollmon     equipmon      cardmon  ...  \\\ncount  1000.000000  1000.000000  1000.000000  1000.000000  1000.000000  ...   \nmean      2.331000    11.723100    13.274000    14.219800    13.781000  ...   \nstd       1.435793    10.363486    16.902122    19.068539    14.084496  ...   \nmin       1.000000     0.900000     0.000000     0.000000     0.000000  ...   \n25%       1.000000     5.200000     0.000000     0.000000     0.000000  ...   \n50%       2.000000     8.525000     0.000000     0.000000    12.000000  ...   \n75%       3.000000    14.412500    24.250000    31.475000    20.500000  ...   \nmax       8.000000    99.950000   173.000000    77.700000   109.250000  ...   \n\n           tollten     equipten      cardten      wireten      loglong  \\\ncount  1000.000000  1000.000000  1000.000000  1000.000000  1000.000000   \nmean    551.258500   465.632850   605.773750   442.736900     2.181930   \nstd     915.746733   857.273071   830.126069   971.471264     0.734301   \nmin       0.000000     0.000000     0.000000     0.000000    -0.110000   \n25%       0.000000     0.000000     0.000000     0.000000     1.650000   \n50%       0.000000     0.000000   332.500000     0.000000     2.145000   \n75%     846.900000   579.450000   910.000000   316.500000     2.670000   \nmax    5916.000000  5028.650000  7515.000000  7856.850000     4.600000   \n\n          logtoll     logequi     logcard     logwire        lninc  \ncount  475.000000  386.000000  678.000000  296.000000  1000.000000  \nmean     3.239874    3.568135    2.854027    3.597872     3.957000  \nstd      0.413795    0.277567    0.557612    0.367397     0.803548  \nmin      1.750000    2.730000    1.010000    2.700000     2.200000  \n25%      2.970000    3.370000    2.460000    3.330000     3.370000  \n50%      3.210000    3.570000    2.850000    3.590000     3.850000  \n75%      3.490000    3.760000    3.210000    3.860000     4.420000  \nmax      5.150000    4.350000    4.690000    4.720000     7.420000  \n\n[8 rows x 22 columns]",
            "text/html": "<div>\n<style scoped>\n    .dataframe tbody tr th:only-of-type {\n        vertical-align: middle;\n    }\n\n    .dataframe tbody tr th {\n        vertical-align: top;\n    }\n\n    .dataframe thead th {\n        text-align: right;\n    }\n</style>\n<table border=\"1\" class=\"dataframe\">\n  <thead>\n    <tr style=\"text-align: right;\">\n      <th></th>\n      <th>tenure</th>\n      <th>age</th>\n      <th>address</th>\n      <th>income</th>\n      <th>employ</th>\n      <th>reside</th>\n      <th>longmon</th>\n      <th>tollmon</th>\n      <th>equipmon</th>\n      <th>cardmon</th>\n      <th>...</th>\n      <th>tollten</th>\n      <th>equipten</th>\n      <th>cardten</th>\n      <th>wireten</th>\n      <th>loglong</th>\n      <th>logtoll</th>\n      <th>logequi</th>\n      <th>logcard</th>\n      <th>logwire</th>\n      <th>lninc</th>\n    </tr>\n  </thead>\n  <tbody>\n    <tr>\n      <th>count</th>\n      <td>1000.000000</td>\n      <td>1000.000000</td>\n      <td>1000.000000</td>\n      <td>1000.000000</td>\n      <td>1000.000000</td>\n      <td>1000.000000</td>\n      <td>1000.000000</td>\n      <td>1000.000000</td>\n      <td>1000.000000</td>\n      <td>1000.000000</td>\n      <td>...</td>\n      <td>1000.000000</td>\n      <td>1000.000000</td>\n      <td>1000.000000</td>\n      <td>1000.000000</td>\n      <td>1000.000000</td>\n      <td>475.000000</td>\n      <td>386.000000</td>\n      <td>678.000000</td>\n      <td>296.000000</td>\n      <td>1000.000000</td>\n    </tr>\n    <tr>\n      <th>mean</th>\n      <td>35.526000</td>\n      <td>41.684000</td>\n      <td>11.551000</td>\n      <td>77.535000</td>\n      <td>10.987000</td>\n      <td>2.331000</td>\n      <td>11.723100</td>\n      <td>13.274000</td>\n      <td>14.219800</td>\n      <td>13.781000</td>\n      <td>...</td>\n      <td>551.258500</td>\n      <td>465.632850</td>\n      <td>605.773750</td>\n      <td>442.736900</td>\n      <td>2.181930</td>\n      <td>3.239874</td>\n      <td>3.568135</td>\n      <td>2.854027</td>\n      <td>3.597872</td>\n      <td>3.957000</td>\n    </tr>\n    <tr>\n      <th>std</th>\n      <td>21.359812</td>\n      <td>12.558816</td>\n      <td>10.086681</td>\n      <td>107.044165</td>\n      <td>10.082087</td>\n      <td>1.435793</td>\n      <td>10.363486</td>\n      <td>16.902122</td>\n      <td>19.068539</td>\n      <td>14.084496</td>\n      <td>...</td>\n      <td>915.746733</td>\n      <td>857.273071</td>\n      <td>830.126069</td>\n      <td>971.471264</td>\n      <td>0.734301</td>\n      <td>0.413795</td>\n      <td>0.277567</td>\n      <td>0.557612</td>\n      <td>0.367397</td>\n      <td>0.803548</td>\n    </tr>\n    <tr>\n      <th>min</th>\n      <td>1.000000</td>\n      <td>18.000000</td>\n      <td>0.000000</td>\n      <td>9.000000</td>\n      <td>0.000000</td>\n      <td>1.000000</td>\n      <td>0.900000</td>\n      <td>0.000000</td>\n      <td>0.000000</td>\n      <td>0.000000</td>\n      <td>...</td>\n      <td>0.000000</td>\n      <td>0.000000</td>\n      <td>0.000000</td>\n      <td>0.000000</td>\n      <td>-0.110000</td>\n      <td>1.750000</td>\n      <td>2.730000</td>\n      <td>1.010000</td>\n      <td>2.700000</td>\n      <td>2.200000</td>\n    </tr>\n    <tr>\n      <th>25%</th>\n      <td>17.000000</td>\n      <td>32.000000</td>\n      <td>3.000000</td>\n      <td>29.000000</td>\n      <td>3.000000</td>\n      <td>1.000000</td>\n      <td>5.200000</td>\n      <td>0.000000</td>\n      <td>0.000000</td>\n      <td>0.000000</td>\n      <td>...</td>\n      <td>0.000000</td>\n      <td>0.000000</td>\n      <td>0.000000</td>\n      <td>0.000000</td>\n      <td>1.650000</td>\n      <td>2.970000</td>\n      <td>3.370000</td>\n      <td>2.460000</td>\n      <td>3.330000</td>\n      <td>3.370000</td>\n    </tr>\n    <tr>\n      <th>50%</th>\n      <td>34.000000</td>\n      <td>40.000000</td>\n      <td>9.000000</td>\n      <td>47.000000</td>\n      <td>8.000000</td>\n      <td>2.000000</td>\n      <td>8.525000</td>\n      <td>0.000000</td>\n      <td>0.000000</td>\n      <td>12.000000</td>\n      <td>...</td>\n      <td>0.000000</td>\n      <td>0.000000</td>\n      <td>332.500000</td>\n      <td>0.000000</td>\n      <td>2.145000</td>\n      <td>3.210000</td>\n      <td>3.570000</td>\n      <td>2.850000</td>\n      <td>3.590000</td>\n      <td>3.850000</td>\n    </tr>\n    <tr>\n      <th>75%</th>\n      <td>54.000000</td>\n      <td>51.000000</td>\n      <td>18.000000</td>\n      <td>83.000000</td>\n      <td>17.000000</td>\n      <td>3.000000</td>\n      <td>14.412500</td>\n      <td>24.250000</td>\n      <td>31.475000</td>\n      <td>20.500000</td>\n      <td>...</td>\n      <td>846.900000</td>\n      <td>579.450000</td>\n      <td>910.000000</td>\n      <td>316.500000</td>\n      <td>2.670000</td>\n      <td>3.490000</td>\n      <td>3.760000</td>\n      <td>3.210000</td>\n      <td>3.860000</td>\n      <td>4.420000</td>\n    </tr>\n    <tr>\n      <th>max</th>\n      <td>72.000000</td>\n      <td>77.000000</td>\n      <td>55.000000</td>\n      <td>1668.000000</td>\n      <td>47.000000</td>\n      <td>8.000000</td>\n      <td>99.950000</td>\n      <td>173.000000</td>\n      <td>77.700000</td>\n      <td>109.250000</td>\n      <td>...</td>\n      <td>5916.000000</td>\n      <td>5028.650000</td>\n      <td>7515.000000</td>\n      <td>7856.850000</td>\n      <td>4.600000</td>\n      <td>5.150000</td>\n      <td>4.350000</td>\n      <td>4.690000</td>\n      <td>4.720000</td>\n      <td>7.420000</td>\n    </tr>\n  </tbody>\n</table>\n<p>8 rows × 22 columns</p>\n</div>"
          },
          "metadata": {}
        }
      ],
      "execution_count": 1,
      "metadata": {
        "jupyter": {
          "source_hidden": false,
          "outputs_hidden": false
        },
        "nteract": {
          "transient": {
            "deleting": false
          }
        },
        "gather": {
          "logged": 1675435023331
        }
      }
    },
    {
      "cell_type": "code",
      "source": [
        "import opendp.smartnoise.core as sn\r\n",
        "\r\n",
        "cols = list(churn.columns)\r\n",
        "income_range = [0.0, 1700.0]\r\n",
        "samples = len(churn)\r\n",
        "\r\n",
        "with sn.Analysis() as analysis:\r\n",
        "    # load data\r\n",
        "    data = sn.Dataset(path=data_path, column_names=cols)\r\n",
        "    \r\n",
        "    # Convert income to float\r\n",
        "    income_dt = sn.to_float(data['income'])\r\n",
        "    \r\n",
        "    # get mean of income\r\n",
        "    income_mean = sn.dp_mean(data = income_dt,\r\n",
        "                          privacy_usage = {'epsilon': .50},\r\n",
        "                          data_lower = income_range[0],\r\n",
        "                          data_upper = income_range[1],\r\n",
        "                          data_rows = samples\r\n",
        "                         )\r\n",
        "    \r\n",
        "analysis.release()\r\n",
        "\r\n",
        "# print differentially private estimate of mean income\r\n",
        "print(\"Private mean income:\",income_mean.value)\r\n",
        "\r\n",
        "# print actual mean income\r\n",
        "print(\"Actual mean income:\",churn.income.mean())"
      ],
      "outputs": [
        {
          "output_type": "stream",
          "name": "stdout",
          "text": "Private mean income: 81.60000000000002\nActual mean income: 77.535\n"
        }
      ],
      "execution_count": 3,
      "metadata": {
        "jupyter": {
          "source_hidden": false,
          "outputs_hidden": false
        },
        "nteract": {
          "transient": {
            "deleting": false
          }
        },
        "gather": {
          "logged": 1675435309889
        }
      }
    },
    {
      "cell_type": "code",
      "source": [
        "import matplotlib.pyplot as plt\r\n",
        "import numpy as np\r\n",
        "%matplotlib inline\r\n",
        "\r\n",
        "incomes = list(range(0, 500, 10))\r\n",
        "income = churn.income\r\n",
        "\r\n",
        "# Plot a histogram with 10-year bins\r\n",
        "n_income, bins, patches = plt.hist(income, bins=incomes, color='blue', alpha=0.7, rwidth=0.85)\r\n",
        "plt.grid(axis='y', alpha=0.75)\r\n",
        "plt.xlabel('income')\r\n",
        "plt.ylabel('Frequency')\r\n",
        "plt.title('True income Distribution')\r\n",
        "plt.show()\r\n",
        "print(n_income.astype(int))"
      ],
      "outputs": [
        {
          "output_type": "display_data",
          "data": {
            "text/plain": "<Figure size 640x480 with 1 Axes>",
            "image/png": "[encoded data removed]"
          },
          "metadata": {}
        },
        {
          "output_type": "stream",
          "name": "stdout",
          "text": "[  7  72 174 153 122  97  64  37  44  31  26  27  13  11  12  11  11   6\n   7   5  12   3   4   3   5   2   6   2   1   3   1   2   1   2   2   2\n   2   0   1   1   0   1   1   1   0   1   1   0   0]\n"
        }
      ],
      "execution_count": 5,
      "metadata": {
        "jupyter": {
          "source_hidden": false,
          "outputs_hidden": false
        },
        "nteract": {
          "transient": {
            "deleting": false
          }
        },
        "gather": {
          "logged": 1675436053546
        }
      }
    },
    {
      "cell_type": "code",
      "source": [
        "import matplotlib.pyplot as plt\r\n",
        "\r\n",
        "n_in = list(n_income.astype(int))\r\n",
        "\r\n",
        "with sn.Analysis() as analysis:\r\n",
        "    data = sn.Dataset(path = data_path, column_names = cols)\r\n",
        "\r\n",
        "    income_histogram = sn.dp_histogram(\r\n",
        "            sn.to_int(data['income'], lower=0, upper=120),\r\n",
        "            edges = incomes,\r\n",
        "            upper = 10000,\r\n",
        "            null_value = -1,\r\n",
        "            privacy_usage = {'epsilon': 0.5}\r\n",
        "        )\r\n",
        "    \r\n",
        "analysis.release()\r\n",
        "\r\n",
        "plt.ylim([0,7000])\r\n",
        "width=4\r\n",
        "agecat_left = [x + width for x in incomes]\r\n",
        "agecat_right = [x + 2*width for x in incomes]\r\n",
        "plt.bar(list(range(0,500,10)), n_in, width=width, color='blue', alpha=0.7, label='True')\r\n",
        "plt.bar(agecat_left, income_histogram.value, width=width, color='orange', alpha=0.7, label='Private')\r\n",
        "plt.legend()\r\n",
        "plt.title('Histogram of income')\r\n",
        "plt.xlabel('income')\r\n",
        "plt.ylabel('Frequency')\r\n",
        "plt.show()\r\n",
        "\r\n",
        "print(income_histogram.value)"
      ],
      "outputs": [
        {
          "output_type": "error",
          "ename": "ValueError",
          "evalue": "shape mismatch: objects cannot be broadcast to a single shape",
          "traceback": [
            "\u001b[0;31m---------------------------------------------------------------------------\u001b[0m",
            "\u001b[0;31mValueError\u001b[0m                                Traceback (most recent call last)",
            "Cell \u001b[0;32mIn[11], line 22\u001b[0m\n\u001b[1;32m     20\u001b[0m agecat_left \u001b[38;5;241m=\u001b[39m [x \u001b[38;5;241m+\u001b[39m width \u001b[38;5;28;01mfor\u001b[39;00m x \u001b[38;5;129;01min\u001b[39;00m incomes]\n\u001b[1;32m     21\u001b[0m agecat_right \u001b[38;5;241m=\u001b[39m [x \u001b[38;5;241m+\u001b[39m \u001b[38;5;241m2\u001b[39m\u001b[38;5;241m*\u001b[39mwidth \u001b[38;5;28;01mfor\u001b[39;00m x \u001b[38;5;129;01min\u001b[39;00m incomes]\n\u001b[0;32m---> 22\u001b[0m \u001b[43mplt\u001b[49m\u001b[38;5;241;43m.\u001b[39;49m\u001b[43mbar\u001b[49m\u001b[43m(\u001b[49m\u001b[38;5;28;43mlist\u001b[39;49m\u001b[43m(\u001b[49m\u001b[38;5;28;43mrange\u001b[39;49m\u001b[43m(\u001b[49m\u001b[38;5;241;43m0\u001b[39;49m\u001b[43m,\u001b[49m\u001b[38;5;241;43m500\u001b[39;49m\u001b[43m,\u001b[49m\u001b[38;5;241;43m10\u001b[39;49m\u001b[43m)\u001b[49m\u001b[43m)\u001b[49m\u001b[43m,\u001b[49m\u001b[43m \u001b[49m\u001b[43mn_in\u001b[49m\u001b[43m,\u001b[49m\u001b[43m \u001b[49m\u001b[43mwidth\u001b[49m\u001b[38;5;241;43m=\u001b[39;49m\u001b[43mwidth\u001b[49m\u001b[43m,\u001b[49m\u001b[43m \u001b[49m\u001b[43mcolor\u001b[49m\u001b[38;5;241;43m=\u001b[39;49m\u001b[38;5;124;43m'\u001b[39;49m\u001b[38;5;124;43mblue\u001b[39;49m\u001b[38;5;124;43m'\u001b[39;49m\u001b[43m,\u001b[49m\u001b[43m \u001b[49m\u001b[43malpha\u001b[49m\u001b[38;5;241;43m=\u001b[39;49m\u001b[38;5;241;43m0.7\u001b[39;49m\u001b[43m,\u001b[49m\u001b[43m \u001b[49m\u001b[43mlabel\u001b[49m\u001b[38;5;241;43m=\u001b[39;49m\u001b[38;5;124;43m'\u001b[39;49m\u001b[38;5;124;43mTrue\u001b[39;49m\u001b[38;5;124;43m'\u001b[39;49m\u001b[43m)\u001b[49m\n\u001b[1;32m     23\u001b[0m plt\u001b[38;5;241m.\u001b[39mbar(agecat_left, income_histogram\u001b[38;5;241m.\u001b[39mvalue, width\u001b[38;5;241m=\u001b[39mwidth, color\u001b[38;5;241m=\u001b[39m\u001b[38;5;124m'\u001b[39m\u001b[38;5;124morange\u001b[39m\u001b[38;5;124m'\u001b[39m, alpha\u001b[38;5;241m=\u001b[39m\u001b[38;5;241m0.7\u001b[39m, label\u001b[38;5;241m=\u001b[39m\u001b[38;5;124m'\u001b[39m\u001b[38;5;124mPrivate\u001b[39m\u001b[38;5;124m'\u001b[39m)\n\u001b[1;32m     24\u001b[0m plt\u001b[38;5;241m.\u001b[39mlegend()\n",
            "File \u001b[0;32m/anaconda/envs/azureml_py38/lib/python3.8/site-packages/matplotlib/pyplot.py:2407\u001b[0m, in \u001b[0;36mbar\u001b[0;34m(x, height, width, bottom, align, data, **kwargs)\u001b[0m\n\u001b[1;32m   2403\u001b[0m \u001b[38;5;129m@docstring\u001b[39m\u001b[38;5;241m.\u001b[39mcopy(Axes\u001b[38;5;241m.\u001b[39mbar)\n\u001b[1;32m   2404\u001b[0m \u001b[38;5;28;01mdef\u001b[39;00m \u001b[38;5;21mbar\u001b[39m(\n\u001b[1;32m   2405\u001b[0m         x, height, width\u001b[38;5;241m=\u001b[39m\u001b[38;5;241m0.8\u001b[39m, bottom\u001b[38;5;241m=\u001b[39m\u001b[38;5;28;01mNone\u001b[39;00m, \u001b[38;5;241m*\u001b[39m, align\u001b[38;5;241m=\u001b[39m\u001b[38;5;124m'\u001b[39m\u001b[38;5;124mcenter\u001b[39m\u001b[38;5;124m'\u001b[39m,\n\u001b[1;32m   2406\u001b[0m         data\u001b[38;5;241m=\u001b[39m\u001b[38;5;28;01mNone\u001b[39;00m, \u001b[38;5;241m*\u001b[39m\u001b[38;5;241m*\u001b[39mkwargs):\n\u001b[0;32m-> 2407\u001b[0m     \u001b[38;5;28;01mreturn\u001b[39;00m \u001b[43mgca\u001b[49m\u001b[43m(\u001b[49m\u001b[43m)\u001b[49m\u001b[38;5;241;43m.\u001b[39;49m\u001b[43mbar\u001b[49m\u001b[43m(\u001b[49m\n\u001b[1;32m   2408\u001b[0m \u001b[43m        \u001b[49m\u001b[43mx\u001b[49m\u001b[43m,\u001b[49m\u001b[43m \u001b[49m\u001b[43mheight\u001b[49m\u001b[43m,\u001b[49m\u001b[43m \u001b[49m\u001b[43mwidth\u001b[49m\u001b[38;5;241;43m=\u001b[39;49m\u001b[43mwidth\u001b[49m\u001b[43m,\u001b[49m\u001b[43m \u001b[49m\u001b[43mbottom\u001b[49m\u001b[38;5;241;43m=\u001b[39;49m\u001b[43mbottom\u001b[49m\u001b[43m,\u001b[49m\u001b[43m \u001b[49m\u001b[43malign\u001b[49m\u001b[38;5;241;43m=\u001b[39;49m\u001b[43malign\u001b[49m\u001b[43m,\u001b[49m\n\u001b[1;32m   2409\u001b[0m \u001b[43m        \u001b[49m\u001b[38;5;241;43m*\u001b[39;49m\u001b[38;5;241;43m*\u001b[39;49m\u001b[43m(\u001b[49m\u001b[43m{\u001b[49m\u001b[38;5;124;43m\"\u001b[39;49m\u001b[38;5;124;43mdata\u001b[39;49m\u001b[38;5;124;43m\"\u001b[39;49m\u001b[43m:\u001b[49m\u001b[43m \u001b[49m\u001b[43mdata\u001b[49m\u001b[43m}\u001b[49m\u001b[43m \u001b[49m\u001b[38;5;28;43;01mif\u001b[39;49;00m\u001b[43m \u001b[49m\u001b[43mdata\u001b[49m\u001b[43m \u001b[49m\u001b[38;5;129;43;01mis\u001b[39;49;00m\u001b[43m \u001b[49m\u001b[38;5;129;43;01mnot\u001b[39;49;00m\u001b[43m \u001b[49m\u001b[38;5;28;43;01mNone\u001b[39;49;00m\u001b[43m \u001b[49m\u001b[38;5;28;43;01melse\u001b[39;49;00m\u001b[43m \u001b[49m\u001b[43m{\u001b[49m\u001b[43m}\u001b[49m\u001b[43m)\u001b[49m\u001b[43m,\u001b[49m\u001b[43m \u001b[49m\u001b[38;5;241;43m*\u001b[39;49m\u001b[38;5;241;43m*\u001b[39;49m\u001b[43mkwargs\u001b[49m\u001b[43m)\u001b[49m\n",
            "File \u001b[0;32m/anaconda/envs/azureml_py38/lib/python3.8/site-packages/matplotlib/__init__.py:1565\u001b[0m, in \u001b[0;36m_preprocess_data.<locals>.inner\u001b[0;34m(ax, data, *args, **kwargs)\u001b[0m\n\u001b[1;32m   1562\u001b[0m \u001b[38;5;129m@functools\u001b[39m\u001b[38;5;241m.\u001b[39mwraps(func)\n\u001b[1;32m   1563\u001b[0m \u001b[38;5;28;01mdef\u001b[39;00m \u001b[38;5;21minner\u001b[39m(ax, \u001b[38;5;241m*\u001b[39margs, data\u001b[38;5;241m=\u001b[39m\u001b[38;5;28;01mNone\u001b[39;00m, \u001b[38;5;241m*\u001b[39m\u001b[38;5;241m*\u001b[39mkwargs):\n\u001b[1;32m   1564\u001b[0m     \u001b[38;5;28;01mif\u001b[39;00m data \u001b[38;5;129;01mis\u001b[39;00m \u001b[38;5;28;01mNone\u001b[39;00m:\n\u001b[0;32m-> 1565\u001b[0m         \u001b[38;5;28;01mreturn\u001b[39;00m \u001b[43mfunc\u001b[49m\u001b[43m(\u001b[49m\u001b[43max\u001b[49m\u001b[43m,\u001b[49m\u001b[43m \u001b[49m\u001b[38;5;241;43m*\u001b[39;49m\u001b[38;5;28;43mmap\u001b[39;49m\u001b[43m(\u001b[49m\u001b[43msanitize_sequence\u001b[49m\u001b[43m,\u001b[49m\u001b[43m \u001b[49m\u001b[43margs\u001b[49m\u001b[43m)\u001b[49m\u001b[43m,\u001b[49m\u001b[43m \u001b[49m\u001b[38;5;241;43m*\u001b[39;49m\u001b[38;5;241;43m*\u001b[39;49m\u001b[43mkwargs\u001b[49m\u001b[43m)\u001b[49m\n\u001b[1;32m   1567\u001b[0m     bound \u001b[38;5;241m=\u001b[39m new_sig\u001b[38;5;241m.\u001b[39mbind(ax, \u001b[38;5;241m*\u001b[39margs, \u001b[38;5;241m*\u001b[39m\u001b[38;5;241m*\u001b[39mkwargs)\n\u001b[1;32m   1568\u001b[0m     auto_label \u001b[38;5;241m=\u001b[39m (bound\u001b[38;5;241m.\u001b[39marguments\u001b[38;5;241m.\u001b[39mget(label_namer)\n\u001b[1;32m   1569\u001b[0m                   \u001b[38;5;129;01mor\u001b[39;00m bound\u001b[38;5;241m.\u001b[39mkwargs\u001b[38;5;241m.\u001b[39mget(label_namer))\n",
            "File \u001b[0;32m/anaconda/envs/azureml_py38/lib/python3.8/site-packages/matplotlib/axes/_axes.py:2339\u001b[0m, in \u001b[0;36mAxes.bar\u001b[0;34m(self, x, height, width, bottom, align, **kwargs)\u001b[0m\n\u001b[1;32m   2336\u001b[0m     \u001b[38;5;28;01mif\u001b[39;00m yerr \u001b[38;5;129;01mis\u001b[39;00m \u001b[38;5;129;01mnot\u001b[39;00m \u001b[38;5;28;01mNone\u001b[39;00m:\n\u001b[1;32m   2337\u001b[0m         yerr \u001b[38;5;241m=\u001b[39m \u001b[38;5;28mself\u001b[39m\u001b[38;5;241m.\u001b[39m_convert_dx(yerr, y0, y, \u001b[38;5;28mself\u001b[39m\u001b[38;5;241m.\u001b[39mconvert_yunits)\n\u001b[0;32m-> 2339\u001b[0m x, height, width, y, linewidth \u001b[38;5;241m=\u001b[39m \u001b[43mnp\u001b[49m\u001b[38;5;241;43m.\u001b[39;49m\u001b[43mbroadcast_arrays\u001b[49m\u001b[43m(\u001b[49m\n\u001b[1;32m   2340\u001b[0m \u001b[43m    \u001b[49m\u001b[38;5;66;43;03m# Make args iterable too.\u001b[39;49;00m\n\u001b[1;32m   2341\u001b[0m \u001b[43m    \u001b[49m\u001b[43mnp\u001b[49m\u001b[38;5;241;43m.\u001b[39;49m\u001b[43matleast_1d\u001b[49m\u001b[43m(\u001b[49m\u001b[43mx\u001b[49m\u001b[43m)\u001b[49m\u001b[43m,\u001b[49m\u001b[43m \u001b[49m\u001b[43mheight\u001b[49m\u001b[43m,\u001b[49m\u001b[43m \u001b[49m\u001b[43mwidth\u001b[49m\u001b[43m,\u001b[49m\u001b[43m \u001b[49m\u001b[43my\u001b[49m\u001b[43m,\u001b[49m\u001b[43m \u001b[49m\u001b[43mlinewidth\u001b[49m\u001b[43m)\u001b[49m\n\u001b[1;32m   2343\u001b[0m \u001b[38;5;66;03m# Now that units have been converted, set the tick locations.\u001b[39;00m\n\u001b[1;32m   2344\u001b[0m \u001b[38;5;28;01mif\u001b[39;00m orientation \u001b[38;5;241m==\u001b[39m \u001b[38;5;124m'\u001b[39m\u001b[38;5;124mvertical\u001b[39m\u001b[38;5;124m'\u001b[39m:\n",
            "File \u001b[0;32m<__array_function__ internals>:5\u001b[0m, in \u001b[0;36mbroadcast_arrays\u001b[0;34m(*args, **kwargs)\u001b[0m\n",
            "File \u001b[0;32m/anaconda/envs/azureml_py38/lib/python3.8/site-packages/numpy/lib/stride_tricks.py:538\u001b[0m, in \u001b[0;36mbroadcast_arrays\u001b[0;34m(subok, *args)\u001b[0m\n\u001b[1;32m    531\u001b[0m \u001b[38;5;66;03m# nditer is not used here to avoid the limit of 32 arrays.\u001b[39;00m\n\u001b[1;32m    532\u001b[0m \u001b[38;5;66;03m# Otherwise, something like the following one-liner would suffice:\u001b[39;00m\n\u001b[1;32m    533\u001b[0m \u001b[38;5;66;03m# return np.nditer(args, flags=['multi_index', 'zerosize_ok'],\u001b[39;00m\n\u001b[1;32m    534\u001b[0m \u001b[38;5;66;03m#                  order='C').itviews\u001b[39;00m\n\u001b[1;32m    536\u001b[0m args \u001b[38;5;241m=\u001b[39m [np\u001b[38;5;241m.\u001b[39marray(_m, copy\u001b[38;5;241m=\u001b[39m\u001b[38;5;28;01mFalse\u001b[39;00m, subok\u001b[38;5;241m=\u001b[39msubok) \u001b[38;5;28;01mfor\u001b[39;00m _m \u001b[38;5;129;01min\u001b[39;00m args]\n\u001b[0;32m--> 538\u001b[0m shape \u001b[38;5;241m=\u001b[39m \u001b[43m_broadcast_shape\u001b[49m\u001b[43m(\u001b[49m\u001b[38;5;241;43m*\u001b[39;49m\u001b[43margs\u001b[49m\u001b[43m)\u001b[49m\n\u001b[1;32m    540\u001b[0m \u001b[38;5;28;01mif\u001b[39;00m \u001b[38;5;28mall\u001b[39m(array\u001b[38;5;241m.\u001b[39mshape \u001b[38;5;241m==\u001b[39m shape \u001b[38;5;28;01mfor\u001b[39;00m array \u001b[38;5;129;01min\u001b[39;00m args):\n\u001b[1;32m    541\u001b[0m     \u001b[38;5;66;03m# Common case where nothing needs to be broadcasted.\u001b[39;00m\n\u001b[1;32m    542\u001b[0m     \u001b[38;5;28;01mreturn\u001b[39;00m args\n",
            "File \u001b[0;32m/anaconda/envs/azureml_py38/lib/python3.8/site-packages/numpy/lib/stride_tricks.py:420\u001b[0m, in \u001b[0;36m_broadcast_shape\u001b[0;34m(*args)\u001b[0m\n\u001b[1;32m    415\u001b[0m \u001b[38;5;124;03m\"\"\"Returns the shape of the arrays that would result from broadcasting the\u001b[39;00m\n\u001b[1;32m    416\u001b[0m \u001b[38;5;124;03msupplied arrays against each other.\u001b[39;00m\n\u001b[1;32m    417\u001b[0m \u001b[38;5;124;03m\"\"\"\u001b[39;00m\n\u001b[1;32m    418\u001b[0m \u001b[38;5;66;03m# use the old-iterator because np.nditer does not handle size 0 arrays\u001b[39;00m\n\u001b[1;32m    419\u001b[0m \u001b[38;5;66;03m# consistently\u001b[39;00m\n\u001b[0;32m--> 420\u001b[0m b \u001b[38;5;241m=\u001b[39m \u001b[43mnp\u001b[49m\u001b[38;5;241;43m.\u001b[39;49m\u001b[43mbroadcast\u001b[49m\u001b[43m(\u001b[49m\u001b[38;5;241;43m*\u001b[39;49m\u001b[43margs\u001b[49m\u001b[43m[\u001b[49m\u001b[43m:\u001b[49m\u001b[38;5;241;43m32\u001b[39;49m\u001b[43m]\u001b[49m\u001b[43m)\u001b[49m\n\u001b[1;32m    421\u001b[0m \u001b[38;5;66;03m# unfortunately, it cannot handle 32 or more arguments directly\u001b[39;00m\n\u001b[1;32m    422\u001b[0m \u001b[38;5;28;01mfor\u001b[39;00m pos \u001b[38;5;129;01min\u001b[39;00m \u001b[38;5;28mrange\u001b[39m(\u001b[38;5;241m32\u001b[39m, \u001b[38;5;28mlen\u001b[39m(args), \u001b[38;5;241m31\u001b[39m):\n\u001b[1;32m    423\u001b[0m     \u001b[38;5;66;03m# ironically, np.broadcast does not properly handle np.broadcast\u001b[39;00m\n\u001b[1;32m    424\u001b[0m     \u001b[38;5;66;03m# objects (it treats them as scalars)\u001b[39;00m\n\u001b[1;32m    425\u001b[0m     \u001b[38;5;66;03m# use broadcasting to avoid allocating the full array\u001b[39;00m\n",
            "\u001b[0;31mValueError\u001b[0m: shape mismatch: objects cannot be broadcast to a single shape"
          ]
        }
      ],
      "execution_count": 11,
      "metadata": {
        "jupyter": {
          "source_hidden": false,
          "outputs_hidden": false
        },
        "nteract": {
          "transient": {
            "deleting": false
          }
        },
        "gather": {
          "logged": 1675438072052
        }
      }
    },
    {
      "cell_type": "code",
      "source": [
        "with sn.Analysis() as analysis:\r\n",
        "    sn_data = sn.Dataset(path = data_path, column_names = cols)\r\n",
        "\r\n",
        "    income_ten_cov_scalar = sn.dp_covariance(\r\n",
        "                left = sn.to_float(sn_data['income']),\r\n",
        "                right = sn.to_float(sn_data['tenure']),\r\n",
        "                privacy_usage = {'epsilon': 1.0},\r\n",
        "                left_lower = 0.,\r\n",
        "                left_upper = 120.,\r\n",
        "                left_rows = 10000,\r\n",
        "                right_lower = 0.,\r\n",
        "                right_upper = 150.,\r\n",
        "                right_rows = 10000)\r\n",
        "analysis.release()\r\n",
        "print('Differentially private covariance: {0}'.format(income_ten_cov_scalar.value[0][0]))\r\n",
        "print('Actual covariance', churn.income.cov(churn.tenure))"
      ],
      "outputs": [
        {
          "output_type": "stream",
          "name": "stdout",
          "text": "Differentially private covariance: 10.8\nActual covariance 555.4049949949949\n"
        }
      ],
      "execution_count": 10,
      "metadata": {
        "jupyter": {
          "source_hidden": false,
          "outputs_hidden": false
        },
        "nteract": {
          "transient": {
            "deleting": false
          }
        },
        "gather": {
          "logged": 1675437178474
        }
      }
    },
    {
      "cell_type": "code",
      "source": [],
      "outputs": [],
      "execution_count": null,
      "metadata": {
        "jupyter": {
          "source_hidden": false,
          "outputs_hidden": false
        },
        "nteract": {
          "transient": {
            "deleting": false
          }
        }
      }
    }
  ],
  "metadata": {
    "kernelspec": {
      "name": "python38-azureml",
      "language": "python",
      "display_name": "Python 3.8 - AzureML"
    },
    "language_info": {
      "name": "python",
      "version": "3.8.10",
      "mimetype": "text/x-python",
      "codemirror_mode": {
        "name": "ipython",
        "version": 3
      },
      "pygments_lexer": "ipython3",
      "nbconvert_exporter": "python",
      "file_extension": ".py"
    },
    "kernel_info": {
      "name": "python38-azureml"
    },
    "microsoft": {
      "host": {
        "AzureML": {
          "notebookHasBeenCompleted": true
        }
      }
    },
    "nteract": {
      "version": "nteract-front-end@1.0.0"
    }
  },
  "nbformat": 4,
  "nbformat_minor": 2
}